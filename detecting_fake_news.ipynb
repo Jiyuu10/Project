{
 "cells": [
  {
   "cell_type": "code",
   "execution_count": 1,
   "id": "ea7b5a1b",
   "metadata": {
    "_cell_guid": "b1076dfc-b9ad-4769-8c92-a6c4dae69d19",
    "_uuid": "8f2839f25d086af736a60e9eeb907d3b93b6e0e5",
    "execution": {
     "iopub.execute_input": "2023-01-23T02:38:35.377579Z",
     "iopub.status.busy": "2023-01-23T02:38:35.377070Z",
     "iopub.status.idle": "2023-01-23T02:38:35.383591Z",
     "shell.execute_reply": "2023-01-23T02:38:35.382390Z"
    },
    "papermill": {
     "duration": 0.019283,
     "end_time": "2023-01-23T02:38:35.386095",
     "exception": false,
     "start_time": "2023-01-23T02:38:35.366812",
     "status": "completed"
    },
    "tags": []
   },
   "outputs": [],
   "source": [
    "# This Python 3 environment comes with many helpful analytics libraries installed\n",
    "# It is defined by the kaggle/python docker image: https://github.com/kaggle/docker-python\n",
    "# For example, here's several helpful packages to load in \n",
    "\n",
    "#import numpy as np # linear algebra\n",
    "#import pandas as pd # data processing, CSV file I/O (e.g. pd.read_csv)\n",
    "\n",
    "# Input data files are available in the \"../input/\" directory.\n",
    "# For example, running this (by clicking run or pressing Shift+Enter) will list all files under the input directory\n",
    "\n",
    "#import os\n",
    "#for dirname, _, filenames in os.walk('/kaggle/input'):\n",
    "#    for filename in filenames:\n",
    "#        print(os.path.join(dirname, filename))\n",
    "\n",
    "# Any results you write to the current directory are saved as output."
   ]
  },
  {
   "cell_type": "code",
   "execution_count": 2,
   "id": "96d095c0",
   "metadata": {
    "execution": {
     "iopub.execute_input": "2023-01-23T02:38:35.402804Z",
     "iopub.status.busy": "2023-01-23T02:38:35.401913Z",
     "iopub.status.idle": "2023-01-23T02:38:35.412452Z",
     "shell.execute_reply": "2023-01-23T02:38:35.410813Z"
    },
    "papermill": {
     "duration": 0.021734,
     "end_time": "2023-01-23T02:38:35.415192",
     "exception": false,
     "start_time": "2023-01-23T02:38:35.393458",
     "status": "completed"
    },
    "tags": []
   },
   "outputs": [],
   "source": [
    "import pandas as pd\n",
    "import numpy as np"
   ]
  },
  {
   "cell_type": "code",
   "execution_count": 3,
   "id": "bf120567",
   "metadata": {
    "execution": {
     "iopub.execute_input": "2023-01-23T02:38:35.431539Z",
     "iopub.status.busy": "2023-01-23T02:38:35.431110Z",
     "iopub.status.idle": "2023-01-23T02:38:35.452288Z",
     "shell.execute_reply": "2023-01-23T02:38:35.450936Z"
    },
    "papermill": {
     "duration": 0.032758,
     "end_time": "2023-01-23T02:38:35.455170",
     "exception": false,
     "start_time": "2023-01-23T02:38:35.422412",
     "status": "completed"
    },
    "tags": []
   },
   "outputs": [
    {
     "name": "stdout",
     "output_type": "stream",
     "text": [
      "/kaggle/input ['fake-and-real-news-dataset']\n",
      "/kaggle/input/fake-and-real-news-dataset []\n"
     ]
    }
   ],
   "source": [
    "import os\n",
    "count = 0\n",
    "for root, folders, filenames in os.walk('/kaggle/input'):\n",
    "   print(root, folders)"
   ]
  },
  {
   "cell_type": "code",
   "execution_count": 4,
   "id": "9ebf5ef3",
   "metadata": {
    "execution": {
     "iopub.execute_input": "2023-01-23T02:38:35.472769Z",
     "iopub.status.busy": "2023-01-23T02:38:35.471933Z",
     "iopub.status.idle": "2023-01-23T02:38:38.349640Z",
     "shell.execute_reply": "2023-01-23T02:38:38.348496Z"
    },
    "papermill": {
     "duration": 2.889299,
     "end_time": "2023-01-23T02:38:38.352584",
     "exception": false,
     "start_time": "2023-01-23T02:38:35.463285",
     "status": "completed"
    },
    "tags": []
   },
   "outputs": [],
   "source": [
    "truenews = pd.read_csv('/kaggle/input/fake-and-real-news-dataset/True.csv')\n",
    "fakenews = pd.read_csv('/kaggle/input/fake-and-real-news-dataset/Fake.csv')"
   ]
  },
  {
   "cell_type": "code",
   "execution_count": 5,
   "id": "4293f362",
   "metadata": {
    "execution": {
     "iopub.execute_input": "2023-01-23T02:38:38.368803Z",
     "iopub.status.busy": "2023-01-23T02:38:38.368375Z",
     "iopub.status.idle": "2023-01-23T02:38:38.392659Z",
     "shell.execute_reply": "2023-01-23T02:38:38.391422Z"
    },
    "papermill": {
     "duration": 0.035418,
     "end_time": "2023-01-23T02:38:38.395201",
     "exception": false,
     "start_time": "2023-01-23T02:38:38.359783",
     "status": "completed"
    },
    "tags": []
   },
   "outputs": [
    {
     "data": {
      "text/html": [
       "<div>\n",
       "<style scoped>\n",
       "    .dataframe tbody tr th:only-of-type {\n",
       "        vertical-align: middle;\n",
       "    }\n",
       "\n",
       "    .dataframe tbody tr th {\n",
       "        vertical-align: top;\n",
       "    }\n",
       "\n",
       "    .dataframe thead th {\n",
       "        text-align: right;\n",
       "    }\n",
       "</style>\n",
       "<table border=\"1\" class=\"dataframe\">\n",
       "  <thead>\n",
       "    <tr style=\"text-align: right;\">\n",
       "      <th></th>\n",
       "      <th>title</th>\n",
       "      <th>text</th>\n",
       "      <th>subject</th>\n",
       "      <th>date</th>\n",
       "    </tr>\n",
       "  </thead>\n",
       "  <tbody>\n",
       "    <tr>\n",
       "      <th>0</th>\n",
       "      <td>Donald Trump Sends Out Embarrassing New Year’...</td>\n",
       "      <td>Donald Trump just couldn t wish all Americans ...</td>\n",
       "      <td>News</td>\n",
       "      <td>December 31, 2017</td>\n",
       "    </tr>\n",
       "    <tr>\n",
       "      <th>1</th>\n",
       "      <td>Drunk Bragging Trump Staffer Started Russian ...</td>\n",
       "      <td>House Intelligence Committee Chairman Devin Nu...</td>\n",
       "      <td>News</td>\n",
       "      <td>December 31, 2017</td>\n",
       "    </tr>\n",
       "    <tr>\n",
       "      <th>2</th>\n",
       "      <td>Sheriff David Clarke Becomes An Internet Joke...</td>\n",
       "      <td>On Friday, it was revealed that former Milwauk...</td>\n",
       "      <td>News</td>\n",
       "      <td>December 30, 2017</td>\n",
       "    </tr>\n",
       "    <tr>\n",
       "      <th>3</th>\n",
       "      <td>Trump Is So Obsessed He Even Has Obama’s Name...</td>\n",
       "      <td>On Christmas day, Donald Trump announced that ...</td>\n",
       "      <td>News</td>\n",
       "      <td>December 29, 2017</td>\n",
       "    </tr>\n",
       "    <tr>\n",
       "      <th>4</th>\n",
       "      <td>Pope Francis Just Called Out Donald Trump Dur...</td>\n",
       "      <td>Pope Francis used his annual Christmas Day mes...</td>\n",
       "      <td>News</td>\n",
       "      <td>December 25, 2017</td>\n",
       "    </tr>\n",
       "  </tbody>\n",
       "</table>\n",
       "</div>"
      ],
      "text/plain": [
       "                                               title  \\\n",
       "0   Donald Trump Sends Out Embarrassing New Year’...   \n",
       "1   Drunk Bragging Trump Staffer Started Russian ...   \n",
       "2   Sheriff David Clarke Becomes An Internet Joke...   \n",
       "3   Trump Is So Obsessed He Even Has Obama’s Name...   \n",
       "4   Pope Francis Just Called Out Donald Trump Dur...   \n",
       "\n",
       "                                                text subject  \\\n",
       "0  Donald Trump just couldn t wish all Americans ...    News   \n",
       "1  House Intelligence Committee Chairman Devin Nu...    News   \n",
       "2  On Friday, it was revealed that former Milwauk...    News   \n",
       "3  On Christmas day, Donald Trump announced that ...    News   \n",
       "4  Pope Francis used his annual Christmas Day mes...    News   \n",
       "\n",
       "                date  \n",
       "0  December 31, 2017  \n",
       "1  December 31, 2017  \n",
       "2  December 30, 2017  \n",
       "3  December 29, 2017  \n",
       "4  December 25, 2017  "
      ]
     },
     "execution_count": 5,
     "metadata": {},
     "output_type": "execute_result"
    }
   ],
   "source": [
    "fakenews.head()"
   ]
  },
  {
   "cell_type": "code",
   "execution_count": 6,
   "id": "20701904",
   "metadata": {
    "execution": {
     "iopub.execute_input": "2023-01-23T02:38:38.413804Z",
     "iopub.status.busy": "2023-01-23T02:38:38.413374Z",
     "iopub.status.idle": "2023-01-23T02:38:38.427123Z",
     "shell.execute_reply": "2023-01-23T02:38:38.425202Z"
    },
    "papermill": {
     "duration": 0.026844,
     "end_time": "2023-01-23T02:38:38.429725",
     "exception": false,
     "start_time": "2023-01-23T02:38:38.402881",
     "status": "completed"
    },
    "tags": []
   },
   "outputs": [
    {
     "data": {
      "text/html": [
       "<div>\n",
       "<style scoped>\n",
       "    .dataframe tbody tr th:only-of-type {\n",
       "        vertical-align: middle;\n",
       "    }\n",
       "\n",
       "    .dataframe tbody tr th {\n",
       "        vertical-align: top;\n",
       "    }\n",
       "\n",
       "    .dataframe thead th {\n",
       "        text-align: right;\n",
       "    }\n",
       "</style>\n",
       "<table border=\"1\" class=\"dataframe\">\n",
       "  <thead>\n",
       "    <tr style=\"text-align: right;\">\n",
       "      <th></th>\n",
       "      <th>title</th>\n",
       "      <th>text</th>\n",
       "      <th>subject</th>\n",
       "      <th>date</th>\n",
       "    </tr>\n",
       "  </thead>\n",
       "  <tbody>\n",
       "    <tr>\n",
       "      <th>0</th>\n",
       "      <td>As U.S. budget fight looms, Republicans flip t...</td>\n",
       "      <td>WASHINGTON (Reuters) - The head of a conservat...</td>\n",
       "      <td>politicsNews</td>\n",
       "      <td>December 31, 2017</td>\n",
       "    </tr>\n",
       "    <tr>\n",
       "      <th>1</th>\n",
       "      <td>U.S. military to accept transgender recruits o...</td>\n",
       "      <td>WASHINGTON (Reuters) - Transgender people will...</td>\n",
       "      <td>politicsNews</td>\n",
       "      <td>December 29, 2017</td>\n",
       "    </tr>\n",
       "    <tr>\n",
       "      <th>2</th>\n",
       "      <td>Senior U.S. Republican senator: 'Let Mr. Muell...</td>\n",
       "      <td>WASHINGTON (Reuters) - The special counsel inv...</td>\n",
       "      <td>politicsNews</td>\n",
       "      <td>December 31, 2017</td>\n",
       "    </tr>\n",
       "    <tr>\n",
       "      <th>3</th>\n",
       "      <td>FBI Russia probe helped by Australian diplomat...</td>\n",
       "      <td>WASHINGTON (Reuters) - Trump campaign adviser ...</td>\n",
       "      <td>politicsNews</td>\n",
       "      <td>December 30, 2017</td>\n",
       "    </tr>\n",
       "    <tr>\n",
       "      <th>4</th>\n",
       "      <td>Trump wants Postal Service to charge 'much mor...</td>\n",
       "      <td>SEATTLE/WASHINGTON (Reuters) - President Donal...</td>\n",
       "      <td>politicsNews</td>\n",
       "      <td>December 29, 2017</td>\n",
       "    </tr>\n",
       "  </tbody>\n",
       "</table>\n",
       "</div>"
      ],
      "text/plain": [
       "                                               title  \\\n",
       "0  As U.S. budget fight looms, Republicans flip t...   \n",
       "1  U.S. military to accept transgender recruits o...   \n",
       "2  Senior U.S. Republican senator: 'Let Mr. Muell...   \n",
       "3  FBI Russia probe helped by Australian diplomat...   \n",
       "4  Trump wants Postal Service to charge 'much mor...   \n",
       "\n",
       "                                                text       subject  \\\n",
       "0  WASHINGTON (Reuters) - The head of a conservat...  politicsNews   \n",
       "1  WASHINGTON (Reuters) - Transgender people will...  politicsNews   \n",
       "2  WASHINGTON (Reuters) - The special counsel inv...  politicsNews   \n",
       "3  WASHINGTON (Reuters) - Trump campaign adviser ...  politicsNews   \n",
       "4  SEATTLE/WASHINGTON (Reuters) - President Donal...  politicsNews   \n",
       "\n",
       "                 date  \n",
       "0  December 31, 2017   \n",
       "1  December 29, 2017   \n",
       "2  December 31, 2017   \n",
       "3  December 30, 2017   \n",
       "4  December 29, 2017   "
      ]
     },
     "execution_count": 6,
     "metadata": {},
     "output_type": "execute_result"
    }
   ],
   "source": [
    "truenews.head()"
   ]
  },
  {
   "cell_type": "code",
   "execution_count": 7,
   "id": "d8635382",
   "metadata": {
    "execution": {
     "iopub.execute_input": "2023-01-23T02:38:38.446943Z",
     "iopub.status.busy": "2023-01-23T02:38:38.446534Z",
     "iopub.status.idle": "2023-01-23T02:38:38.532788Z",
     "shell.execute_reply": "2023-01-23T02:38:38.531646Z"
    },
    "papermill": {
     "duration": 0.097598,
     "end_time": "2023-01-23T02:38:38.535192",
     "exception": false,
     "start_time": "2023-01-23T02:38:38.437594",
     "status": "completed"
    },
    "tags": []
   },
   "outputs": [
    {
     "data": {
      "text/html": [
       "<div>\n",
       "<style scoped>\n",
       "    .dataframe tbody tr th:only-of-type {\n",
       "        vertical-align: middle;\n",
       "    }\n",
       "\n",
       "    .dataframe tbody tr th {\n",
       "        vertical-align: top;\n",
       "    }\n",
       "\n",
       "    .dataframe thead th {\n",
       "        text-align: right;\n",
       "    }\n",
       "</style>\n",
       "<table border=\"1\" class=\"dataframe\">\n",
       "  <thead>\n",
       "    <tr style=\"text-align: right;\">\n",
       "      <th></th>\n",
       "      <th>title</th>\n",
       "      <th>text</th>\n",
       "      <th>subject</th>\n",
       "      <th>date</th>\n",
       "    </tr>\n",
       "  </thead>\n",
       "  <tbody>\n",
       "    <tr>\n",
       "      <th>count</th>\n",
       "      <td>23481</td>\n",
       "      <td>23481</td>\n",
       "      <td>23481</td>\n",
       "      <td>23481</td>\n",
       "    </tr>\n",
       "    <tr>\n",
       "      <th>unique</th>\n",
       "      <td>17903</td>\n",
       "      <td>17455</td>\n",
       "      <td>6</td>\n",
       "      <td>1681</td>\n",
       "    </tr>\n",
       "    <tr>\n",
       "      <th>top</th>\n",
       "      <td>MEDIA IGNORES Time That Bill Clinton FIRED His...</td>\n",
       "      <td></td>\n",
       "      <td>News</td>\n",
       "      <td>May 10, 2017</td>\n",
       "    </tr>\n",
       "    <tr>\n",
       "      <th>freq</th>\n",
       "      <td>6</td>\n",
       "      <td>626</td>\n",
       "      <td>9050</td>\n",
       "      <td>46</td>\n",
       "    </tr>\n",
       "  </tbody>\n",
       "</table>\n",
       "</div>"
      ],
      "text/plain": [
       "                                                    title   text subject  \\\n",
       "count                                               23481  23481   23481   \n",
       "unique                                              17903  17455       6   \n",
       "top     MEDIA IGNORES Time That Bill Clinton FIRED His...           News   \n",
       "freq                                                    6    626    9050   \n",
       "\n",
       "                date  \n",
       "count          23481  \n",
       "unique          1681  \n",
       "top     May 10, 2017  \n",
       "freq              46  "
      ]
     },
     "execution_count": 7,
     "metadata": {},
     "output_type": "execute_result"
    }
   ],
   "source": [
    "fakenews.describe()"
   ]
  },
  {
   "cell_type": "code",
   "execution_count": 8,
   "id": "d61ff5f4",
   "metadata": {
    "execution": {
     "iopub.execute_input": "2023-01-23T02:38:38.552078Z",
     "iopub.status.busy": "2023-01-23T02:38:38.551692Z",
     "iopub.status.idle": "2023-01-23T02:38:38.654134Z",
     "shell.execute_reply": "2023-01-23T02:38:38.652736Z"
    },
    "papermill": {
     "duration": 0.113863,
     "end_time": "2023-01-23T02:38:38.656744",
     "exception": false,
     "start_time": "2023-01-23T02:38:38.542881",
     "status": "completed"
    },
    "tags": []
   },
   "outputs": [
    {
     "data": {
      "text/html": [
       "<div>\n",
       "<style scoped>\n",
       "    .dataframe tbody tr th:only-of-type {\n",
       "        vertical-align: middle;\n",
       "    }\n",
       "\n",
       "    .dataframe tbody tr th {\n",
       "        vertical-align: top;\n",
       "    }\n",
       "\n",
       "    .dataframe thead th {\n",
       "        text-align: right;\n",
       "    }\n",
       "</style>\n",
       "<table border=\"1\" class=\"dataframe\">\n",
       "  <thead>\n",
       "    <tr style=\"text-align: right;\">\n",
       "      <th></th>\n",
       "      <th>title</th>\n",
       "      <th>text</th>\n",
       "      <th>subject</th>\n",
       "      <th>date</th>\n",
       "    </tr>\n",
       "  </thead>\n",
       "  <tbody>\n",
       "    <tr>\n",
       "      <th>count</th>\n",
       "      <td>21417</td>\n",
       "      <td>21417</td>\n",
       "      <td>21417</td>\n",
       "      <td>21417</td>\n",
       "    </tr>\n",
       "    <tr>\n",
       "      <th>unique</th>\n",
       "      <td>20826</td>\n",
       "      <td>21192</td>\n",
       "      <td>2</td>\n",
       "      <td>716</td>\n",
       "    </tr>\n",
       "    <tr>\n",
       "      <th>top</th>\n",
       "      <td>Factbox: Trump fills top jobs for his administ...</td>\n",
       "      <td>(Reuters) - Highlights for U.S. President Dona...</td>\n",
       "      <td>politicsNews</td>\n",
       "      <td>December 20, 2017</td>\n",
       "    </tr>\n",
       "    <tr>\n",
       "      <th>freq</th>\n",
       "      <td>14</td>\n",
       "      <td>8</td>\n",
       "      <td>11272</td>\n",
       "      <td>182</td>\n",
       "    </tr>\n",
       "  </tbody>\n",
       "</table>\n",
       "</div>"
      ],
      "text/plain": [
       "                                                    title  \\\n",
       "count                                               21417   \n",
       "unique                                              20826   \n",
       "top     Factbox: Trump fills top jobs for his administ...   \n",
       "freq                                                   14   \n",
       "\n",
       "                                                     text       subject  \\\n",
       "count                                               21417         21417   \n",
       "unique                                              21192             2   \n",
       "top     (Reuters) - Highlights for U.S. President Dona...  politicsNews   \n",
       "freq                                                    8         11272   \n",
       "\n",
       "                      date  \n",
       "count                21417  \n",
       "unique                 716  \n",
       "top     December 20, 2017   \n",
       "freq                   182  "
      ]
     },
     "execution_count": 8,
     "metadata": {},
     "output_type": "execute_result"
    }
   ],
   "source": [
    "truenews.describe()"
   ]
  },
  {
   "cell_type": "code",
   "execution_count": 9,
   "id": "a1c8b14e",
   "metadata": {
    "execution": {
     "iopub.execute_input": "2023-01-23T02:38:38.674620Z",
     "iopub.status.busy": "2023-01-23T02:38:38.674187Z",
     "iopub.status.idle": "2023-01-23T02:38:38.681397Z",
     "shell.execute_reply": "2023-01-23T02:38:38.680277Z"
    },
    "papermill": {
     "duration": 0.018849,
     "end_time": "2023-01-23T02:38:38.683660",
     "exception": false,
     "start_time": "2023-01-23T02:38:38.664811",
     "status": "completed"
    },
    "tags": []
   },
   "outputs": [],
   "source": [
    "truenews['True/Fake']='True'\n",
    "fakenews['True/Fake']='Fake'"
   ]
  },
  {
   "cell_type": "code",
   "execution_count": 10,
   "id": "ae6a8ffe",
   "metadata": {
    "execution": {
     "iopub.execute_input": "2023-01-23T02:38:38.702120Z",
     "iopub.status.busy": "2023-01-23T02:38:38.700997Z",
     "iopub.status.idle": "2023-01-23T02:38:38.919294Z",
     "shell.execute_reply": "2023-01-23T02:38:38.918239Z"
    },
    "papermill": {
     "duration": 0.23009,
     "end_time": "2023-01-23T02:38:38.921870",
     "exception": false,
     "start_time": "2023-01-23T02:38:38.691780",
     "status": "completed"
    },
    "tags": []
   },
   "outputs": [
    {
     "data": {
      "text/html": [
       "<div>\n",
       "<style scoped>\n",
       "    .dataframe tbody tr th:only-of-type {\n",
       "        vertical-align: middle;\n",
       "    }\n",
       "\n",
       "    .dataframe tbody tr th {\n",
       "        vertical-align: top;\n",
       "    }\n",
       "\n",
       "    .dataframe thead th {\n",
       "        text-align: right;\n",
       "    }\n",
       "</style>\n",
       "<table border=\"1\" class=\"dataframe\">\n",
       "  <thead>\n",
       "    <tr style=\"text-align: right;\">\n",
       "      <th></th>\n",
       "      <th>title</th>\n",
       "      <th>text</th>\n",
       "      <th>subject</th>\n",
       "      <th>date</th>\n",
       "      <th>True/Fake</th>\n",
       "      <th>Article</th>\n",
       "    </tr>\n",
       "  </thead>\n",
       "  <tbody>\n",
       "    <tr>\n",
       "      <th>1182</th>\n",
       "      <td>Judge blocks latest Trump curbs on people ente...</td>\n",
       "      <td>SAN FRANCISCO/WASHINGTON (Reuters) - A U.S. ju...</td>\n",
       "      <td>politicsNews</td>\n",
       "      <td>October 17, 2017</td>\n",
       "      <td>True</td>\n",
       "      <td>Judge blocks latest Trump curbs on people ente...</td>\n",
       "    </tr>\n",
       "    <tr>\n",
       "      <th>9508</th>\n",
       "      <td>BREAKING UPDATE: At Least 27 DEAD After Shoote...</td>\n",
       "      <td>Please pray for the victims and their families...</td>\n",
       "      <td>politics</td>\n",
       "      <td>Nov 5, 2017</td>\n",
       "      <td>Fake</td>\n",
       "      <td>BREAKING UPDATE: At Least 27 DEAD After Shoote...</td>\n",
       "    </tr>\n",
       "    <tr>\n",
       "      <th>14362</th>\n",
       "      <td>WE’VE GOT THE LIST Of Bill and Hillary Clinton...</td>\n",
       "      <td>Bill and Hillary Clinton whored themselves out...</td>\n",
       "      <td>politics</td>\n",
       "      <td>Mar 5, 2016</td>\n",
       "      <td>Fake</td>\n",
       "      <td>WE’VE GOT THE LIST Of Bill and Hillary Clinton...</td>\n",
       "    </tr>\n",
       "    <tr>\n",
       "      <th>6974</th>\n",
       "      <td>John Oliver Gets Revenge On The Most Hated Se...</td>\n",
       "      <td>John Oliver has taken aim at the section of th...</td>\n",
       "      <td>News</td>\n",
       "      <td>April 11, 2016</td>\n",
       "      <td>Fake</td>\n",
       "      <td>John Oliver Gets Revenge On The Most Hated Se...</td>\n",
       "    </tr>\n",
       "    <tr>\n",
       "      <th>16577</th>\n",
       "      <td>COMMIE CALIFORNIA BILL Would Allow Prosecution...</td>\n",
       "      <td>How can you be prosecuted for something that i...</td>\n",
       "      <td>Government News</td>\n",
       "      <td>Jun 4, 2016</td>\n",
       "      <td>Fake</td>\n",
       "      <td>COMMIE CALIFORNIA BILL Would Allow Prosecution...</td>\n",
       "    </tr>\n",
       "    <tr>\n",
       "      <th>...</th>\n",
       "      <td>...</td>\n",
       "      <td>...</td>\n",
       "      <td>...</td>\n",
       "      <td>...</td>\n",
       "      <td>...</td>\n",
       "      <td>...</td>\n",
       "    </tr>\n",
       "    <tr>\n",
       "      <th>20065</th>\n",
       "      <td>Kirkuk governor says Iraqi parliament vote to ...</td>\n",
       "      <td>KIRKUK, Iraq (Reuters) - The governor of Iraq ...</td>\n",
       "      <td>worldnews</td>\n",
       "      <td>September 14, 2017</td>\n",
       "      <td>True</td>\n",
       "      <td>Kirkuk governor says Iraqi parliament vote to ...</td>\n",
       "    </tr>\n",
       "    <tr>\n",
       "      <th>758</th>\n",
       "      <td>This Congressman Just Took A Stand Against Tr...</td>\n",
       "      <td>Donald Trump s conflicts of interest are final...</td>\n",
       "      <td>News</td>\n",
       "      <td>July 24, 2017</td>\n",
       "      <td>Fake</td>\n",
       "      <td>This Congressman Just Took A Stand Against Tr...</td>\n",
       "    </tr>\n",
       "    <tr>\n",
       "      <th>59</th>\n",
       "      <td>While Honoring Native American Code Talkers, ...</td>\n",
       "      <td>Former reality show star Donald Trump just can...</td>\n",
       "      <td>News</td>\n",
       "      <td>November 27, 2017</td>\n",
       "      <td>Fake</td>\n",
       "      <td>While Honoring Native American Code Talkers, ...</td>\n",
       "    </tr>\n",
       "    <tr>\n",
       "      <th>18385</th>\n",
       "      <td>Former Navy SEAL and Harvard Grad “Body-Slams”...</td>\n",
       "      <td>Former Navy SEAL and GOP Rep. Scott Taylor, R-...</td>\n",
       "      <td>left-news</td>\n",
       "      <td>Jul 4, 2017</td>\n",
       "      <td>Fake</td>\n",
       "      <td>Former Navy SEAL and Harvard Grad “Body-Slams”...</td>\n",
       "    </tr>\n",
       "    <tr>\n",
       "      <th>11338</th>\n",
       "      <td>39 injured in fireworks explosion at Cuban fes...</td>\n",
       "      <td>HAVANA (Reuters) - A fireworks explosion injur...</td>\n",
       "      <td>worldnews</td>\n",
       "      <td>December 25, 2017</td>\n",
       "      <td>True</td>\n",
       "      <td>39 injured in fireworks explosion at Cuban fes...</td>\n",
       "    </tr>\n",
       "  </tbody>\n",
       "</table>\n",
       "<p>44898 rows × 6 columns</p>\n",
       "</div>"
      ],
      "text/plain": [
       "                                                   title  \\\n",
       "1182   Judge blocks latest Trump curbs on people ente...   \n",
       "9508   BREAKING UPDATE: At Least 27 DEAD After Shoote...   \n",
       "14362  WE’VE GOT THE LIST Of Bill and Hillary Clinton...   \n",
       "6974    John Oliver Gets Revenge On The Most Hated Se...   \n",
       "16577  COMMIE CALIFORNIA BILL Would Allow Prosecution...   \n",
       "...                                                  ...   \n",
       "20065  Kirkuk governor says Iraqi parliament vote to ...   \n",
       "758     This Congressman Just Took A Stand Against Tr...   \n",
       "59      While Honoring Native American Code Talkers, ...   \n",
       "18385  Former Navy SEAL and Harvard Grad “Body-Slams”...   \n",
       "11338  39 injured in fireworks explosion at Cuban fes...   \n",
       "\n",
       "                                                    text          subject  \\\n",
       "1182   SAN FRANCISCO/WASHINGTON (Reuters) - A U.S. ju...     politicsNews   \n",
       "9508   Please pray for the victims and their families...         politics   \n",
       "14362  Bill and Hillary Clinton whored themselves out...         politics   \n",
       "6974   John Oliver has taken aim at the section of th...             News   \n",
       "16577  How can you be prosecuted for something that i...  Government News   \n",
       "...                                                  ...              ...   \n",
       "20065  KIRKUK, Iraq (Reuters) - The governor of Iraq ...        worldnews   \n",
       "758    Donald Trump s conflicts of interest are final...             News   \n",
       "59     Former reality show star Donald Trump just can...             News   \n",
       "18385  Former Navy SEAL and GOP Rep. Scott Taylor, R-...        left-news   \n",
       "11338  HAVANA (Reuters) - A fireworks explosion injur...        worldnews   \n",
       "\n",
       "                      date True/Fake  \\\n",
       "1182     October 17, 2017       True   \n",
       "9508           Nov 5, 2017      Fake   \n",
       "14362          Mar 5, 2016      Fake   \n",
       "6974        April 11, 2016      Fake   \n",
       "16577          Jun 4, 2016      Fake   \n",
       "...                    ...       ...   \n",
       "20065  September 14, 2017       True   \n",
       "758          July 24, 2017      Fake   \n",
       "59       November 27, 2017      Fake   \n",
       "18385          Jul 4, 2017      Fake   \n",
       "11338   December 25, 2017       True   \n",
       "\n",
       "                                                 Article  \n",
       "1182   Judge blocks latest Trump curbs on people ente...  \n",
       "9508   BREAKING UPDATE: At Least 27 DEAD After Shoote...  \n",
       "14362  WE’VE GOT THE LIST Of Bill and Hillary Clinton...  \n",
       "6974    John Oliver Gets Revenge On The Most Hated Se...  \n",
       "16577  COMMIE CALIFORNIA BILL Would Allow Prosecution...  \n",
       "...                                                  ...  \n",
       "20065  Kirkuk governor says Iraqi parliament vote to ...  \n",
       "758     This Congressman Just Took A Stand Against Tr...  \n",
       "59      While Honoring Native American Code Talkers, ...  \n",
       "18385  Former Navy SEAL and Harvard Grad “Body-Slams”...  \n",
       "11338  39 injured in fireworks explosion at Cuban fes...  \n",
       "\n",
       "[44898 rows x 6 columns]"
      ]
     },
     "execution_count": 10,
     "metadata": {},
     "output_type": "execute_result"
    }
   ],
   "source": [
    "# Combine the 2 DataFrames into a single data frame\n",
    "news = pd.concat([truenews, fakenews])\n",
    "news[\"Article\"] = news[\"title\"] + news[\"text\"]\n",
    "news.sample(frac = 1) #Shuffle 100%"
   ]
  },
  {
   "cell_type": "code",
   "execution_count": 11,
   "id": "900bc4b9",
   "metadata": {
    "execution": {
     "iopub.execute_input": "2023-01-23T02:38:38.940744Z",
     "iopub.status.busy": "2023-01-23T02:38:38.940349Z",
     "iopub.status.idle": "2023-01-23T02:38:40.582481Z",
     "shell.execute_reply": "2023-01-23T02:38:40.581050Z"
    },
    "papermill": {
     "duration": 1.655131,
     "end_time": "2023-01-23T02:38:40.585580",
     "exception": false,
     "start_time": "2023-01-23T02:38:38.930449",
     "status": "completed"
    },
    "tags": []
   },
   "outputs": [],
   "source": [
    "#Data Cleaning\n",
    "from nltk.corpus import stopwords\n",
    "import string"
   ]
  },
  {
   "cell_type": "code",
   "execution_count": 12,
   "id": "d34059f5",
   "metadata": {
    "execution": {
     "iopub.execute_input": "2023-01-23T02:38:40.605382Z",
     "iopub.status.busy": "2023-01-23T02:38:40.604189Z",
     "iopub.status.idle": "2023-01-23T02:38:40.610585Z",
     "shell.execute_reply": "2023-01-23T02:38:40.609494Z"
    },
    "papermill": {
     "duration": 0.018824,
     "end_time": "2023-01-23T02:38:40.613160",
     "exception": false,
     "start_time": "2023-01-23T02:38:40.594336",
     "status": "completed"
    },
    "tags": []
   },
   "outputs": [],
   "source": [
    "def process_text(s):\n",
    "\n",
    "    # Check string to see if they are a punctuation\n",
    "    nopunc = [char for char in s if char not in string.punctuation]\n",
    "\n",
    "    # Join the characters again to form the string.\n",
    "    nopunc = ''.join(nopunc)\n",
    "    \n",
    "    # Convert string to lowercase and remove stopwords\n",
    "    clean_string = [word for word in nopunc.split() if word.lower()]\n",
    "    #not in stopwords.words('english')\n",
    "    return clean_string"
   ]
  },
  {
   "cell_type": "code",
   "execution_count": 13,
   "id": "639c2924",
   "metadata": {
    "execution": {
     "iopub.execute_input": "2023-01-23T02:38:40.631633Z",
     "iopub.status.busy": "2023-01-23T02:38:40.631191Z",
     "iopub.status.idle": "2023-01-23T02:39:01.179476Z",
     "shell.execute_reply": "2023-01-23T02:39:01.178204Z"
    },
    "papermill": {
     "duration": 20.560967,
     "end_time": "2023-01-23T02:39:01.182556",
     "exception": false,
     "start_time": "2023-01-23T02:38:40.621589",
     "status": "completed"
    },
    "tags": []
   },
   "outputs": [],
   "source": [
    "# Tokenize the Article\n",
    "#rerun, takes LOOOONG\n",
    "news['Clean Text'] = news['Article'].apply(process_text)"
   ]
  },
  {
   "cell_type": "code",
   "execution_count": 14,
   "id": "38bfd1a7",
   "metadata": {
    "execution": {
     "iopub.execute_input": "2023-01-23T02:39:01.201294Z",
     "iopub.status.busy": "2023-01-23T02:39:01.200874Z",
     "iopub.status.idle": "2023-01-23T02:39:01.250941Z",
     "shell.execute_reply": "2023-01-23T02:39:01.249549Z"
    },
    "papermill": {
     "duration": 0.062448,
     "end_time": "2023-01-23T02:39:01.253651",
     "exception": false,
     "start_time": "2023-01-23T02:39:01.191203",
     "status": "completed"
    },
    "tags": []
   },
   "outputs": [
    {
     "data": {
      "text/html": [
       "<div>\n",
       "<style scoped>\n",
       "    .dataframe tbody tr th:only-of-type {\n",
       "        vertical-align: middle;\n",
       "    }\n",
       "\n",
       "    .dataframe tbody tr th {\n",
       "        vertical-align: top;\n",
       "    }\n",
       "\n",
       "    .dataframe thead th {\n",
       "        text-align: right;\n",
       "    }\n",
       "</style>\n",
       "<table border=\"1\" class=\"dataframe\">\n",
       "  <thead>\n",
       "    <tr style=\"text-align: right;\">\n",
       "      <th></th>\n",
       "      <th>title</th>\n",
       "      <th>text</th>\n",
       "      <th>subject</th>\n",
       "      <th>date</th>\n",
       "      <th>True/Fake</th>\n",
       "      <th>Article</th>\n",
       "      <th>Clean Text</th>\n",
       "    </tr>\n",
       "  </thead>\n",
       "  <tbody>\n",
       "    <tr>\n",
       "      <th>20118</th>\n",
       "      <td>Boys 'cried from barred windows' as Islamic sc...</td>\n",
       "      <td>KUALA LUMPUR (Reuters) - A blaze at an Islamic...</td>\n",
       "      <td>worldnews</td>\n",
       "      <td>September 14, 2017</td>\n",
       "      <td>True</td>\n",
       "      <td>Boys 'cried from barred windows' as Islamic sc...</td>\n",
       "      <td>[Boys, cried, from, barred, windows, as, Islam...</td>\n",
       "    </tr>\n",
       "    <tr>\n",
       "      <th>1315</th>\n",
       "      <td>U.S. Corporations Plead With Trump On Front P...</td>\n",
       "      <td>Some of the biggest corporations in the United...</td>\n",
       "      <td>News</td>\n",
       "      <td>May 31, 2017</td>\n",
       "      <td>Fake</td>\n",
       "      <td>U.S. Corporations Plead With Trump On Front P...</td>\n",
       "      <td>[US, Corporations, Plead, With, Trump, On, Fro...</td>\n",
       "    </tr>\n",
       "    <tr>\n",
       "      <th>19832</th>\n",
       "      <td>Ultra-Orthodox protesters arrested in violent ...</td>\n",
       "      <td>JERUSALEM (Reuters) - Jewish ultra-Orthodox de...</td>\n",
       "      <td>worldnews</td>\n",
       "      <td>September 17, 2017</td>\n",
       "      <td>True</td>\n",
       "      <td>Ultra-Orthodox protesters arrested in violent ...</td>\n",
       "      <td>[UltraOrthodox, protesters, arrested, in, viol...</td>\n",
       "    </tr>\n",
       "    <tr>\n",
       "      <th>12313</th>\n",
       "      <td>JIMMY KIMMEL: A Politically Correct Thanksgivi...</td>\n",
       "      <td></td>\n",
       "      <td>politics</td>\n",
       "      <td>Nov 23, 2016</td>\n",
       "      <td>Fake</td>\n",
       "      <td>JIMMY KIMMEL: A Politically Correct Thanksgivi...</td>\n",
       "      <td>[JIMMY, KIMMEL, A, Politically, Correct, Thank...</td>\n",
       "    </tr>\n",
       "    <tr>\n",
       "      <th>23170</th>\n",
       "      <td>Boiler Room EP #83 – Wouldn’t It Be Nice…</td>\n",
       "      <td>Tune in to the Alternate Current Radio Network...</td>\n",
       "      <td>Middle-east</td>\n",
       "      <td>November 10, 2016</td>\n",
       "      <td>Fake</td>\n",
       "      <td>Boiler Room EP #83 – Wouldn’t It Be Nice…Tune ...</td>\n",
       "      <td>[Boiler, Room, EP, 83, –, Wouldn’t, It, Be, Ni...</td>\n",
       "    </tr>\n",
       "  </tbody>\n",
       "</table>\n",
       "</div>"
      ],
      "text/plain": [
       "                                                   title  \\\n",
       "20118  Boys 'cried from barred windows' as Islamic sc...   \n",
       "1315    U.S. Corporations Plead With Trump On Front P...   \n",
       "19832  Ultra-Orthodox protesters arrested in violent ...   \n",
       "12313  JIMMY KIMMEL: A Politically Correct Thanksgivi...   \n",
       "23170          Boiler Room EP #83 – Wouldn’t It Be Nice…   \n",
       "\n",
       "                                                    text      subject  \\\n",
       "20118  KUALA LUMPUR (Reuters) - A blaze at an Islamic...    worldnews   \n",
       "1315   Some of the biggest corporations in the United...         News   \n",
       "19832  JERUSALEM (Reuters) - Jewish ultra-Orthodox de...    worldnews   \n",
       "12313                                                        politics   \n",
       "23170  Tune in to the Alternate Current Radio Network...  Middle-east   \n",
       "\n",
       "                      date True/Fake  \\\n",
       "20118  September 14, 2017       True   \n",
       "1315          May 31, 2017      Fake   \n",
       "19832  September 17, 2017       True   \n",
       "12313         Nov 23, 2016      Fake   \n",
       "23170    November 10, 2016      Fake   \n",
       "\n",
       "                                                 Article  \\\n",
       "20118  Boys 'cried from barred windows' as Islamic sc...   \n",
       "1315    U.S. Corporations Plead With Trump On Front P...   \n",
       "19832  Ultra-Orthodox protesters arrested in violent ...   \n",
       "12313  JIMMY KIMMEL: A Politically Correct Thanksgivi...   \n",
       "23170  Boiler Room EP #83 – Wouldn’t It Be Nice…Tune ...   \n",
       "\n",
       "                                              Clean Text  \n",
       "20118  [Boys, cried, from, barred, windows, as, Islam...  \n",
       "1315   [US, Corporations, Plead, With, Trump, On, Fro...  \n",
       "19832  [UltraOrthodox, protesters, arrested, in, viol...  \n",
       "12313  [JIMMY, KIMMEL, A, Politically, Correct, Thank...  \n",
       "23170  [Boiler, Room, EP, 83, –, Wouldn’t, It, Be, Ni...  "
      ]
     },
     "execution_count": 14,
     "metadata": {},
     "output_type": "execute_result"
    }
   ],
   "source": [
    "news.sample(5)\n"
   ]
  },
  {
   "cell_type": "code",
   "execution_count": 15,
   "id": "3d4fcabc",
   "metadata": {
    "execution": {
     "iopub.execute_input": "2023-01-23T02:39:01.274986Z",
     "iopub.status.busy": "2023-01-23T02:39:01.274580Z",
     "iopub.status.idle": "2023-01-23T02:39:01.281663Z",
     "shell.execute_reply": "2023-01-23T02:39:01.279339Z"
    },
    "papermill": {
     "duration": 0.021142,
     "end_time": "2023-01-23T02:39:01.284120",
     "exception": false,
     "start_time": "2023-01-23T02:39:01.262978",
     "status": "completed"
    },
    "tags": []
   },
   "outputs": [],
   "source": [
    "from sklearn.feature_extraction.text import CountVectorizer"
   ]
  },
  {
   "cell_type": "code",
   "execution_count": 16,
   "id": "2400080e",
   "metadata": {
    "execution": {
     "iopub.execute_input": "2023-01-23T02:39:01.304211Z",
     "iopub.status.busy": "2023-01-23T02:39:01.303731Z",
     "iopub.status.idle": "2023-01-23T02:39:05.452315Z",
     "shell.execute_reply": "2023-01-23T02:39:05.450848Z"
    },
    "papermill": {
     "duration": 4.161761,
     "end_time": "2023-01-23T02:39:05.454804",
     "exception": false,
     "start_time": "2023-01-23T02:39:01.293043",
     "status": "completed"
    },
    "tags": []
   },
   "outputs": [
    {
     "name": "stdout",
     "output_type": "stream",
     "text": [
      "39099\n"
     ]
    }
   ],
   "source": [
    "bow_transformer = CountVectorizer(analyzer=process_text).fit(news['Clean Text'])\n",
    "\n",
    "print(len(bow_transformer.vocabulary_)) #Total vocab words"
   ]
  },
  {
   "cell_type": "code",
   "execution_count": 17,
   "id": "54848d4b",
   "metadata": {
    "execution": {
     "iopub.execute_input": "2023-01-23T02:39:05.474026Z",
     "iopub.status.busy": "2023-01-23T02:39:05.473628Z",
     "iopub.status.idle": "2023-01-23T02:39:09.386269Z",
     "shell.execute_reply": "2023-01-23T02:39:09.385211Z"
    },
    "papermill": {
     "duration": 3.925245,
     "end_time": "2023-01-23T02:39:09.388922",
     "exception": false,
     "start_time": "2023-01-23T02:39:05.463677",
     "status": "completed"
    },
    "tags": []
   },
   "outputs": [],
   "source": [
    "#Bag-of-Words (bow) transform the entire DataFrame of text\n",
    "news_bow = bow_transformer.transform(news['Clean Text'])"
   ]
  },
  {
   "cell_type": "code",
   "execution_count": 18,
   "id": "454b3009",
   "metadata": {
    "execution": {
     "iopub.execute_input": "2023-01-23T02:39:09.409111Z",
     "iopub.status.busy": "2023-01-23T02:39:09.408028Z",
     "iopub.status.idle": "2023-01-23T02:39:09.413824Z",
     "shell.execute_reply": "2023-01-23T02:39:09.412659Z"
    },
    "papermill": {
     "duration": 0.01911,
     "end_time": "2023-01-23T02:39:09.416858",
     "exception": false,
     "start_time": "2023-01-23T02:39:09.397748",
     "status": "completed"
    },
    "tags": []
   },
   "outputs": [
    {
     "name": "stdout",
     "output_type": "stream",
     "text": [
      "Shape of Sparse Matrix:  (44898, 39099)\n",
      "Amount of Non-Zero occurences:  44898\n"
     ]
    }
   ],
   "source": [
    "print('Shape of Sparse Matrix: ', news_bow.shape)\n",
    "print('Amount of Non-Zero occurences: ', news_bow.nnz)"
   ]
  },
  {
   "cell_type": "code",
   "execution_count": 19,
   "id": "ced71af6",
   "metadata": {
    "execution": {
     "iopub.execute_input": "2023-01-23T02:39:09.437137Z",
     "iopub.status.busy": "2023-01-23T02:39:09.436712Z",
     "iopub.status.idle": "2023-01-23T02:39:09.443800Z",
     "shell.execute_reply": "2023-01-23T02:39:09.442276Z"
    },
    "papermill": {
     "duration": 0.020291,
     "end_time": "2023-01-23T02:39:09.446802",
     "exception": false,
     "start_time": "2023-01-23T02:39:09.426511",
     "status": "completed"
    },
    "tags": []
   },
   "outputs": [
    {
     "name": "stdout",
     "output_type": "stream",
     "text": [
      "sparsity: 0\n"
     ]
    }
   ],
   "source": [
    "sparsity = (100.0 * news_bow.nnz / (news_bow.shape[0] * news_bow.shape[1]))\n",
    "print('sparsity: {}'.format(round(sparsity)))"
   ]
  },
  {
   "cell_type": "code",
   "execution_count": 20,
   "id": "d2da471e",
   "metadata": {
    "execution": {
     "iopub.execute_input": "2023-01-23T02:39:09.468132Z",
     "iopub.status.busy": "2023-01-23T02:39:09.467516Z",
     "iopub.status.idle": "2023-01-23T02:39:09.471157Z",
     "shell.execute_reply": "2023-01-23T02:39:09.470390Z"
    },
    "papermill": {
     "duration": 0.01646,
     "end_time": "2023-01-23T02:39:09.473291",
     "exception": false,
     "start_time": "2023-01-23T02:39:09.456831",
     "status": "completed"
    },
    "tags": []
   },
   "outputs": [],
   "source": [
    "#TF-IDF"
   ]
  },
  {
   "cell_type": "code",
   "execution_count": 21,
   "id": "988832fd",
   "metadata": {
    "execution": {
     "iopub.execute_input": "2023-01-23T02:39:09.493200Z",
     "iopub.status.busy": "2023-01-23T02:39:09.492575Z",
     "iopub.status.idle": "2023-01-23T02:39:09.511521Z",
     "shell.execute_reply": "2023-01-23T02:39:09.510074Z"
    },
    "papermill": {
     "duration": 0.031564,
     "end_time": "2023-01-23T02:39:09.513705",
     "exception": false,
     "start_time": "2023-01-23T02:39:09.482141",
     "status": "completed"
    },
    "tags": []
   },
   "outputs": [
    {
     "name": "stdout",
     "output_type": "stream",
     "text": [
      "(44898, 39099)\n"
     ]
    }
   ],
   "source": [
    "from sklearn.feature_extraction.text import TfidfTransformer\n",
    "\n",
    "tfidf_transformer = TfidfTransformer().fit(news_bow)\n",
    "news_tfidf = tfidf_transformer.transform(news_bow)\n",
    "print(news_tfidf.shape)"
   ]
  },
  {
   "cell_type": "code",
   "execution_count": 22,
   "id": "0baf10b3",
   "metadata": {
    "execution": {
     "iopub.execute_input": "2023-01-23T02:39:09.533175Z",
     "iopub.status.busy": "2023-01-23T02:39:09.532775Z",
     "iopub.status.idle": "2023-01-23T02:39:09.666320Z",
     "shell.execute_reply": "2023-01-23T02:39:09.664898Z"
    },
    "papermill": {
     "duration": 0.146542,
     "end_time": "2023-01-23T02:39:09.669275",
     "exception": false,
     "start_time": "2023-01-23T02:39:09.522733",
     "status": "completed"
    },
    "tags": []
   },
   "outputs": [],
   "source": [
    "#Train Naive Bayes Model\n",
    "from sklearn.naive_bayes import MultinomialNB\n",
    "fakenews_detect_model = MultinomialNB().fit(news_tfidf, news['True/Fake'])\n"
   ]
  },
  {
   "cell_type": "code",
   "execution_count": 23,
   "id": "47b40e76",
   "metadata": {
    "execution": {
     "iopub.execute_input": "2023-01-23T02:39:09.689742Z",
     "iopub.status.busy": "2023-01-23T02:39:09.689349Z",
     "iopub.status.idle": "2023-01-23T02:39:09.698442Z",
     "shell.execute_reply": "2023-01-23T02:39:09.696701Z"
    },
    "papermill": {
     "duration": 0.022058,
     "end_time": "2023-01-23T02:39:09.700774",
     "exception": false,
     "start_time": "2023-01-23T02:39:09.678716",
     "status": "completed"
    },
    "tags": []
   },
   "outputs": [
    {
     "name": "stdout",
     "output_type": "stream",
     "text": [
      "['True' 'True' 'True' ... 'Fake' 'Fake' 'Fake']\n"
     ]
    }
   ],
   "source": [
    "#Model Evaluation\n",
    "predictions = fakenews_detect_model.predict(news_tfidf)\n",
    "print(predictions)"
   ]
  },
  {
   "cell_type": "code",
   "execution_count": 24,
   "id": "5a0bdab0",
   "metadata": {
    "execution": {
     "iopub.execute_input": "2023-01-23T02:39:09.720998Z",
     "iopub.status.busy": "2023-01-23T02:39:09.720025Z",
     "iopub.status.idle": "2023-01-23T02:39:11.099208Z",
     "shell.execute_reply": "2023-01-23T02:39:11.097935Z"
    },
    "papermill": {
     "duration": 1.392293,
     "end_time": "2023-01-23T02:39:11.102121",
     "exception": false,
     "start_time": "2023-01-23T02:39:09.709828",
     "status": "completed"
    },
    "tags": []
   },
   "outputs": [
    {
     "name": "stdout",
     "output_type": "stream",
     "text": [
      "              precision    recall  f1-score   support\n",
      "\n",
      "        Fake       1.00      1.00      1.00     23481\n",
      "        True       1.00      1.00      1.00     21417\n",
      "\n",
      "    accuracy                           1.00     44898\n",
      "   macro avg       1.00      1.00      1.00     44898\n",
      "weighted avg       1.00      1.00      1.00     44898\n",
      "\n"
     ]
    }
   ],
   "source": [
    "from sklearn.metrics import classification_report\n",
    "print (classification_report(news['True/Fake'], predictions))"
   ]
  },
  {
   "cell_type": "code",
   "execution_count": 25,
   "id": "db51351d",
   "metadata": {
    "execution": {
     "iopub.execute_input": "2023-01-23T02:39:11.124027Z",
     "iopub.status.busy": "2023-01-23T02:39:11.122805Z",
     "iopub.status.idle": "2023-01-23T02:39:11.139763Z",
     "shell.execute_reply": "2023-01-23T02:39:11.138310Z"
    },
    "papermill": {
     "duration": 0.030072,
     "end_time": "2023-01-23T02:39:11.142398",
     "exception": false,
     "start_time": "2023-01-23T02:39:11.112326",
     "status": "completed"
    },
    "tags": []
   },
   "outputs": [
    {
     "name": "stdout",
     "output_type": "stream",
     "text": [
      "40408 4490 44898\n"
     ]
    }
   ],
   "source": [
    "from sklearn.model_selection import train_test_split\n",
    "\n",
    "news_train, news_test, text_train, text_test = train_test_split(news['Article'], news['True/Fake'], test_size=0.1)\n",
    "\n",
    "print(len(news_train), len(news_test), len(news_train) + len(news_test))"
   ]
  },
  {
   "cell_type": "code",
   "execution_count": 26,
   "id": "77b06312",
   "metadata": {
    "execution": {
     "iopub.execute_input": "2023-01-23T02:39:11.162872Z",
     "iopub.status.busy": "2023-01-23T02:39:11.162187Z",
     "iopub.status.idle": "2023-01-23T02:39:39.191562Z",
     "shell.execute_reply": "2023-01-23T02:39:39.190279Z"
    },
    "papermill": {
     "duration": 28.042264,
     "end_time": "2023-01-23T02:39:39.193851",
     "exception": false,
     "start_time": "2023-01-23T02:39:11.151587",
     "status": "completed"
    },
    "tags": []
   },
   "outputs": [
    {
     "data": {
      "text/plain": [
       "Pipeline(steps=[('bow',\n",
       "                 CountVectorizer(analyzer=<function process_text at 0x7f2b20bbd5f0>)),\n",
       "                ('tfidf', TfidfTransformer()),\n",
       "                ('classifier', MultinomialNB())])"
      ]
     },
     "execution_count": 26,
     "metadata": {},
     "output_type": "execute_result"
    }
   ],
   "source": [
    "from sklearn.pipeline import Pipeline\n",
    "\n",
    "pipeline = Pipeline([\n",
    "    ('bow', CountVectorizer(analyzer=process_text)),  \n",
    "    ('tfidf', TfidfTransformer()),  \n",
    "    ('classifier', MultinomialNB()),  \n",
    "])\n",
    "pipeline.fit(news_train,text_train)"
   ]
  },
  {
   "cell_type": "code",
   "execution_count": 27,
   "id": "8c1c2124",
   "metadata": {
    "execution": {
     "iopub.execute_input": "2023-01-23T02:39:39.214471Z",
     "iopub.status.busy": "2023-01-23T02:39:39.213857Z",
     "iopub.status.idle": "2023-01-23T02:39:42.072961Z",
     "shell.execute_reply": "2023-01-23T02:39:42.071716Z"
    },
    "papermill": {
     "duration": 2.872493,
     "end_time": "2023-01-23T02:39:42.075772",
     "exception": false,
     "start_time": "2023-01-23T02:39:39.203279",
     "status": "completed"
    },
    "tags": []
   },
   "outputs": [],
   "source": [
    "prediction = pipeline.predict(news_test)"
   ]
  },
  {
   "cell_type": "code",
   "execution_count": 28,
   "id": "ba1e017c",
   "metadata": {
    "execution": {
     "iopub.execute_input": "2023-01-23T02:39:42.096069Z",
     "iopub.status.busy": "2023-01-23T02:39:42.095649Z",
     "iopub.status.idle": "2023-01-23T02:39:42.238954Z",
     "shell.execute_reply": "2023-01-23T02:39:42.237552Z"
    },
    "papermill": {
     "duration": 0.159872,
     "end_time": "2023-01-23T02:39:42.244913",
     "exception": false,
     "start_time": "2023-01-23T02:39:42.085041",
     "status": "completed"
    },
    "tags": []
   },
   "outputs": [
    {
     "name": "stdout",
     "output_type": "stream",
     "text": [
      "              precision    recall  f1-score   support\n",
      "\n",
      "        Fake       0.97      0.98      0.97      2258\n",
      "        True       0.98      0.97      0.97      2232\n",
      "\n",
      "    accuracy                           0.97      4490\n",
      "   macro avg       0.97      0.97      0.97      4490\n",
      "weighted avg       0.97      0.97      0.97      4490\n",
      "\n"
     ]
    }
   ],
   "source": [
    "print(classification_report(prediction,text_test))"
   ]
  },
  {
   "cell_type": "code",
   "execution_count": null,
   "id": "b18e0744",
   "metadata": {
    "papermill": {
     "duration": 0.012459,
     "end_time": "2023-01-23T02:39:42.271917",
     "exception": false,
     "start_time": "2023-01-23T02:39:42.259458",
     "status": "completed"
    },
    "tags": []
   },
   "outputs": [],
   "source": []
  }
 ],
 "metadata": {
  "kernelspec": {
   "display_name": "Python 3",
   "language": "python",
   "name": "python3"
  },
  "language_info": {
   "codemirror_mode": {
    "name": "ipython",
    "version": 3
   },
   "file_extension": ".py",
   "mimetype": "text/x-python",
   "name": "python",
   "nbconvert_exporter": "python",
   "pygments_lexer": "ipython3",
   "version": "3.7.12"
  },
  "papermill": {
   "default_parameters": {},
   "duration": 78.708278,
   "end_time": "2023-01-23T02:39:43.911490",
   "environment_variables": {},
   "exception": null,
   "input_path": "__notebook__.ipynb",
   "output_path": "__notebook__.ipynb",
   "parameters": {},
   "start_time": "2023-01-23T02:38:25.203212",
   "version": "2.3.4"
  }
 },
 "nbformat": 4,
 "nbformat_minor": 5
}
