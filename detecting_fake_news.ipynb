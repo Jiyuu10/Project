{
 "cells": [
  {
   "cell_type": "code",
   "execution_count": 1,
   "id": "73a909d1",
   "metadata": {
    "_cell_guid": "b1076dfc-b9ad-4769-8c92-a6c4dae69d19",
    "_uuid": "8f2839f25d086af736a60e9eeb907d3b93b6e0e5",
    "execution": {
     "iopub.execute_input": "2023-01-23T02:50:42.422485Z",
     "iopub.status.busy": "2023-01-23T02:50:42.421905Z",
     "iopub.status.idle": "2023-01-23T02:50:42.427930Z",
     "shell.execute_reply": "2023-01-23T02:50:42.427001Z"
    },
    "papermill": {
     "duration": 0.019323,
     "end_time": "2023-01-23T02:50:42.430648",
     "exception": false,
     "start_time": "2023-01-23T02:50:42.411325",
     "status": "completed"
    },
    "tags": []
   },
   "outputs": [],
   "source": [
    "# This Python 3 environment comes with many helpful analytics libraries installed\n",
    "# It is defined by the kaggle/python docker image: https://github.com/kaggle/docker-python\n",
    "# For example, here's several helpful packages to load in \n",
    "\n",
    "#import numpy as np # linear algebra\n",
    "#import pandas as pd # data processing, CSV file I/O (e.g. pd.read_csv)\n",
    "\n",
    "# Input data files are available in the \"../input/\" directory.\n",
    "# For example, running this (by clicking run or pressing Shift+Enter) will list all files under the input directory\n",
    "\n",
    "#import os\n",
    "#for dirname, _, filenames in os.walk('/kaggle/input'):\n",
    "#    for filename in filenames:\n",
    "#        print(os.path.join(dirname, filename))\n",
    "\n",
    "# Any results you write to the current directory are saved as output."
   ]
  },
  {
   "cell_type": "code",
   "execution_count": 2,
   "id": "95a11bcd",
   "metadata": {
    "execution": {
     "iopub.execute_input": "2023-01-23T02:50:42.447598Z",
     "iopub.status.busy": "2023-01-23T02:50:42.446763Z",
     "iopub.status.idle": "2023-01-23T02:50:42.455669Z",
     "shell.execute_reply": "2023-01-23T02:50:42.454614Z"
    },
    "papermill": {
     "duration": 0.02003,
     "end_time": "2023-01-23T02:50:42.458262",
     "exception": false,
     "start_time": "2023-01-23T02:50:42.438232",
     "status": "completed"
    },
    "tags": []
   },
   "outputs": [],
   "source": [
    "import pandas as pd\n",
    "import numpy as np"
   ]
  },
  {
   "cell_type": "code",
   "execution_count": 3,
   "id": "86876416",
   "metadata": {
    "execution": {
     "iopub.execute_input": "2023-01-23T02:50:42.474101Z",
     "iopub.status.busy": "2023-01-23T02:50:42.473598Z",
     "iopub.status.idle": "2023-01-23T02:50:42.484861Z",
     "shell.execute_reply": "2023-01-23T02:50:42.483673Z"
    },
    "papermill": {
     "duration": 0.022222,
     "end_time": "2023-01-23T02:50:42.487594",
     "exception": false,
     "start_time": "2023-01-23T02:50:42.465372",
     "status": "completed"
    },
    "tags": []
   },
   "outputs": [
    {
     "name": "stdout",
     "output_type": "stream",
     "text": [
      "/kaggle/input ['fake-and-real-news-dataset']\n",
      "/kaggle/input/fake-and-real-news-dataset []\n"
     ]
    }
   ],
   "source": [
    "import os\n",
    "count = 0\n",
    "for root, folders, filenames in os.walk('/kaggle/input'):\n",
    "   print(root, folders)"
   ]
  },
  {
   "cell_type": "code",
   "execution_count": 4,
   "id": "166104dd",
   "metadata": {
    "execution": {
     "iopub.execute_input": "2023-01-23T02:50:42.503306Z",
     "iopub.status.busy": "2023-01-23T02:50:42.502889Z",
     "iopub.status.idle": "2023-01-23T02:50:45.665412Z",
     "shell.execute_reply": "2023-01-23T02:50:45.664356Z"
    },
    "papermill": {
     "duration": 3.173386,
     "end_time": "2023-01-23T02:50:45.668042",
     "exception": false,
     "start_time": "2023-01-23T02:50:42.494656",
     "status": "completed"
    },
    "tags": []
   },
   "outputs": [],
   "source": [
    "realnews = pd.read_csv('/kaggle/input/fake-and-real-news-dataset/True.csv')\n",
    "fakenews = pd.read_csv('/kaggle/input/fake-and-real-news-dataset/Fake.csv')"
   ]
  },
  {
   "cell_type": "code",
   "execution_count": 5,
   "id": "29ec282f",
   "metadata": {
    "execution": {
     "iopub.execute_input": "2023-01-23T02:50:45.683866Z",
     "iopub.status.busy": "2023-01-23T02:50:45.683486Z",
     "iopub.status.idle": "2023-01-23T02:50:45.706392Z",
     "shell.execute_reply": "2023-01-23T02:50:45.704906Z"
    },
    "papermill": {
     "duration": 0.033782,
     "end_time": "2023-01-23T02:50:45.708906",
     "exception": false,
     "start_time": "2023-01-23T02:50:45.675124",
     "status": "completed"
    },
    "tags": []
   },
   "outputs": [
    {
     "data": {
      "text/html": [
       "<div>\n",
       "<style scoped>\n",
       "    .dataframe tbody tr th:only-of-type {\n",
       "        vertical-align: middle;\n",
       "    }\n",
       "\n",
       "    .dataframe tbody tr th {\n",
       "        vertical-align: top;\n",
       "    }\n",
       "\n",
       "    .dataframe thead th {\n",
       "        text-align: right;\n",
       "    }\n",
       "</style>\n",
       "<table border=\"1\" class=\"dataframe\">\n",
       "  <thead>\n",
       "    <tr style=\"text-align: right;\">\n",
       "      <th></th>\n",
       "      <th>title</th>\n",
       "      <th>text</th>\n",
       "      <th>subject</th>\n",
       "      <th>date</th>\n",
       "    </tr>\n",
       "  </thead>\n",
       "  <tbody>\n",
       "    <tr>\n",
       "      <th>0</th>\n",
       "      <td>Donald Trump Sends Out Embarrassing New Year’...</td>\n",
       "      <td>Donald Trump just couldn t wish all Americans ...</td>\n",
       "      <td>News</td>\n",
       "      <td>December 31, 2017</td>\n",
       "    </tr>\n",
       "    <tr>\n",
       "      <th>1</th>\n",
       "      <td>Drunk Bragging Trump Staffer Started Russian ...</td>\n",
       "      <td>House Intelligence Committee Chairman Devin Nu...</td>\n",
       "      <td>News</td>\n",
       "      <td>December 31, 2017</td>\n",
       "    </tr>\n",
       "    <tr>\n",
       "      <th>2</th>\n",
       "      <td>Sheriff David Clarke Becomes An Internet Joke...</td>\n",
       "      <td>On Friday, it was revealed that former Milwauk...</td>\n",
       "      <td>News</td>\n",
       "      <td>December 30, 2017</td>\n",
       "    </tr>\n",
       "    <tr>\n",
       "      <th>3</th>\n",
       "      <td>Trump Is So Obsessed He Even Has Obama’s Name...</td>\n",
       "      <td>On Christmas day, Donald Trump announced that ...</td>\n",
       "      <td>News</td>\n",
       "      <td>December 29, 2017</td>\n",
       "    </tr>\n",
       "    <tr>\n",
       "      <th>4</th>\n",
       "      <td>Pope Francis Just Called Out Donald Trump Dur...</td>\n",
       "      <td>Pope Francis used his annual Christmas Day mes...</td>\n",
       "      <td>News</td>\n",
       "      <td>December 25, 2017</td>\n",
       "    </tr>\n",
       "  </tbody>\n",
       "</table>\n",
       "</div>"
      ],
      "text/plain": [
       "                                               title  \\\n",
       "0   Donald Trump Sends Out Embarrassing New Year’...   \n",
       "1   Drunk Bragging Trump Staffer Started Russian ...   \n",
       "2   Sheriff David Clarke Becomes An Internet Joke...   \n",
       "3   Trump Is So Obsessed He Even Has Obama’s Name...   \n",
       "4   Pope Francis Just Called Out Donald Trump Dur...   \n",
       "\n",
       "                                                text subject  \\\n",
       "0  Donald Trump just couldn t wish all Americans ...    News   \n",
       "1  House Intelligence Committee Chairman Devin Nu...    News   \n",
       "2  On Friday, it was revealed that former Milwauk...    News   \n",
       "3  On Christmas day, Donald Trump announced that ...    News   \n",
       "4  Pope Francis used his annual Christmas Day mes...    News   \n",
       "\n",
       "                date  \n",
       "0  December 31, 2017  \n",
       "1  December 31, 2017  \n",
       "2  December 30, 2017  \n",
       "3  December 29, 2017  \n",
       "4  December 25, 2017  "
      ]
     },
     "execution_count": 5,
     "metadata": {},
     "output_type": "execute_result"
    }
   ],
   "source": [
    "fakenews.head()"
   ]
  },
  {
   "cell_type": "code",
   "execution_count": 6,
   "id": "7e39c486",
   "metadata": {
    "execution": {
     "iopub.execute_input": "2023-01-23T02:50:45.725154Z",
     "iopub.status.busy": "2023-01-23T02:50:45.724747Z",
     "iopub.status.idle": "2023-01-23T02:50:45.736774Z",
     "shell.execute_reply": "2023-01-23T02:50:45.735641Z"
    },
    "papermill": {
     "duration": 0.022639,
     "end_time": "2023-01-23T02:50:45.739002",
     "exception": false,
     "start_time": "2023-01-23T02:50:45.716363",
     "status": "completed"
    },
    "tags": []
   },
   "outputs": [
    {
     "data": {
      "text/html": [
       "<div>\n",
       "<style scoped>\n",
       "    .dataframe tbody tr th:only-of-type {\n",
       "        vertical-align: middle;\n",
       "    }\n",
       "\n",
       "    .dataframe tbody tr th {\n",
       "        vertical-align: top;\n",
       "    }\n",
       "\n",
       "    .dataframe thead th {\n",
       "        text-align: right;\n",
       "    }\n",
       "</style>\n",
       "<table border=\"1\" class=\"dataframe\">\n",
       "  <thead>\n",
       "    <tr style=\"text-align: right;\">\n",
       "      <th></th>\n",
       "      <th>title</th>\n",
       "      <th>text</th>\n",
       "      <th>subject</th>\n",
       "      <th>date</th>\n",
       "    </tr>\n",
       "  </thead>\n",
       "  <tbody>\n",
       "    <tr>\n",
       "      <th>0</th>\n",
       "      <td>As U.S. budget fight looms, Republicans flip t...</td>\n",
       "      <td>WASHINGTON (Reuters) - The head of a conservat...</td>\n",
       "      <td>politicsNews</td>\n",
       "      <td>December 31, 2017</td>\n",
       "    </tr>\n",
       "    <tr>\n",
       "      <th>1</th>\n",
       "      <td>U.S. military to accept transgender recruits o...</td>\n",
       "      <td>WASHINGTON (Reuters) - Transgender people will...</td>\n",
       "      <td>politicsNews</td>\n",
       "      <td>December 29, 2017</td>\n",
       "    </tr>\n",
       "    <tr>\n",
       "      <th>2</th>\n",
       "      <td>Senior U.S. Republican senator: 'Let Mr. Muell...</td>\n",
       "      <td>WASHINGTON (Reuters) - The special counsel inv...</td>\n",
       "      <td>politicsNews</td>\n",
       "      <td>December 31, 2017</td>\n",
       "    </tr>\n",
       "    <tr>\n",
       "      <th>3</th>\n",
       "      <td>FBI Russia probe helped by Australian diplomat...</td>\n",
       "      <td>WASHINGTON (Reuters) - Trump campaign adviser ...</td>\n",
       "      <td>politicsNews</td>\n",
       "      <td>December 30, 2017</td>\n",
       "    </tr>\n",
       "    <tr>\n",
       "      <th>4</th>\n",
       "      <td>Trump wants Postal Service to charge 'much mor...</td>\n",
       "      <td>SEATTLE/WASHINGTON (Reuters) - President Donal...</td>\n",
       "      <td>politicsNews</td>\n",
       "      <td>December 29, 2017</td>\n",
       "    </tr>\n",
       "  </tbody>\n",
       "</table>\n",
       "</div>"
      ],
      "text/plain": [
       "                                               title  \\\n",
       "0  As U.S. budget fight looms, Republicans flip t...   \n",
       "1  U.S. military to accept transgender recruits o...   \n",
       "2  Senior U.S. Republican senator: 'Let Mr. Muell...   \n",
       "3  FBI Russia probe helped by Australian diplomat...   \n",
       "4  Trump wants Postal Service to charge 'much mor...   \n",
       "\n",
       "                                                text       subject  \\\n",
       "0  WASHINGTON (Reuters) - The head of a conservat...  politicsNews   \n",
       "1  WASHINGTON (Reuters) - Transgender people will...  politicsNews   \n",
       "2  WASHINGTON (Reuters) - The special counsel inv...  politicsNews   \n",
       "3  WASHINGTON (Reuters) - Trump campaign adviser ...  politicsNews   \n",
       "4  SEATTLE/WASHINGTON (Reuters) - President Donal...  politicsNews   \n",
       "\n",
       "                 date  \n",
       "0  December 31, 2017   \n",
       "1  December 29, 2017   \n",
       "2  December 31, 2017   \n",
       "3  December 30, 2017   \n",
       "4  December 29, 2017   "
      ]
     },
     "execution_count": 6,
     "metadata": {},
     "output_type": "execute_result"
    }
   ],
   "source": [
    "realnews.head()"
   ]
  },
  {
   "cell_type": "code",
   "execution_count": 7,
   "id": "7897257c",
   "metadata": {
    "execution": {
     "iopub.execute_input": "2023-01-23T02:50:45.757384Z",
     "iopub.status.busy": "2023-01-23T02:50:45.756941Z",
     "iopub.status.idle": "2023-01-23T02:50:45.841386Z",
     "shell.execute_reply": "2023-01-23T02:50:45.840611Z"
    },
    "papermill": {
     "duration": 0.09538,
     "end_time": "2023-01-23T02:50:45.843459",
     "exception": false,
     "start_time": "2023-01-23T02:50:45.748079",
     "status": "completed"
    },
    "tags": []
   },
   "outputs": [
    {
     "data": {
      "text/html": [
       "<div>\n",
       "<style scoped>\n",
       "    .dataframe tbody tr th:only-of-type {\n",
       "        vertical-align: middle;\n",
       "    }\n",
       "\n",
       "    .dataframe tbody tr th {\n",
       "        vertical-align: top;\n",
       "    }\n",
       "\n",
       "    .dataframe thead th {\n",
       "        text-align: right;\n",
       "    }\n",
       "</style>\n",
       "<table border=\"1\" class=\"dataframe\">\n",
       "  <thead>\n",
       "    <tr style=\"text-align: right;\">\n",
       "      <th></th>\n",
       "      <th>title</th>\n",
       "      <th>text</th>\n",
       "      <th>subject</th>\n",
       "      <th>date</th>\n",
       "    </tr>\n",
       "  </thead>\n",
       "  <tbody>\n",
       "    <tr>\n",
       "      <th>count</th>\n",
       "      <td>23481</td>\n",
       "      <td>23481</td>\n",
       "      <td>23481</td>\n",
       "      <td>23481</td>\n",
       "    </tr>\n",
       "    <tr>\n",
       "      <th>unique</th>\n",
       "      <td>17903</td>\n",
       "      <td>17455</td>\n",
       "      <td>6</td>\n",
       "      <td>1681</td>\n",
       "    </tr>\n",
       "    <tr>\n",
       "      <th>top</th>\n",
       "      <td>MEDIA IGNORES Time That Bill Clinton FIRED His...</td>\n",
       "      <td></td>\n",
       "      <td>News</td>\n",
       "      <td>May 10, 2017</td>\n",
       "    </tr>\n",
       "    <tr>\n",
       "      <th>freq</th>\n",
       "      <td>6</td>\n",
       "      <td>626</td>\n",
       "      <td>9050</td>\n",
       "      <td>46</td>\n",
       "    </tr>\n",
       "  </tbody>\n",
       "</table>\n",
       "</div>"
      ],
      "text/plain": [
       "                                                    title   text subject  \\\n",
       "count                                               23481  23481   23481   \n",
       "unique                                              17903  17455       6   \n",
       "top     MEDIA IGNORES Time That Bill Clinton FIRED His...           News   \n",
       "freq                                                    6    626    9050   \n",
       "\n",
       "                date  \n",
       "count          23481  \n",
       "unique          1681  \n",
       "top     May 10, 2017  \n",
       "freq              46  "
      ]
     },
     "execution_count": 7,
     "metadata": {},
     "output_type": "execute_result"
    }
   ],
   "source": [
    "fakenews.describe()"
   ]
  },
  {
   "cell_type": "code",
   "execution_count": 8,
   "id": "7335b291",
   "metadata": {
    "execution": {
     "iopub.execute_input": "2023-01-23T02:50:45.860879Z",
     "iopub.status.busy": "2023-01-23T02:50:45.859913Z",
     "iopub.status.idle": "2023-01-23T02:50:45.960355Z",
     "shell.execute_reply": "2023-01-23T02:50:45.959133Z"
    },
    "papermill": {
     "duration": 0.111613,
     "end_time": "2023-01-23T02:50:45.962749",
     "exception": false,
     "start_time": "2023-01-23T02:50:45.851136",
     "status": "completed"
    },
    "tags": []
   },
   "outputs": [
    {
     "data": {
      "text/html": [
       "<div>\n",
       "<style scoped>\n",
       "    .dataframe tbody tr th:only-of-type {\n",
       "        vertical-align: middle;\n",
       "    }\n",
       "\n",
       "    .dataframe tbody tr th {\n",
       "        vertical-align: top;\n",
       "    }\n",
       "\n",
       "    .dataframe thead th {\n",
       "        text-align: right;\n",
       "    }\n",
       "</style>\n",
       "<table border=\"1\" class=\"dataframe\">\n",
       "  <thead>\n",
       "    <tr style=\"text-align: right;\">\n",
       "      <th></th>\n",
       "      <th>title</th>\n",
       "      <th>text</th>\n",
       "      <th>subject</th>\n",
       "      <th>date</th>\n",
       "    </tr>\n",
       "  </thead>\n",
       "  <tbody>\n",
       "    <tr>\n",
       "      <th>count</th>\n",
       "      <td>21417</td>\n",
       "      <td>21417</td>\n",
       "      <td>21417</td>\n",
       "      <td>21417</td>\n",
       "    </tr>\n",
       "    <tr>\n",
       "      <th>unique</th>\n",
       "      <td>20826</td>\n",
       "      <td>21192</td>\n",
       "      <td>2</td>\n",
       "      <td>716</td>\n",
       "    </tr>\n",
       "    <tr>\n",
       "      <th>top</th>\n",
       "      <td>Factbox: Trump fills top jobs for his administ...</td>\n",
       "      <td>(Reuters) - Highlights for U.S. President Dona...</td>\n",
       "      <td>politicsNews</td>\n",
       "      <td>December 20, 2017</td>\n",
       "    </tr>\n",
       "    <tr>\n",
       "      <th>freq</th>\n",
       "      <td>14</td>\n",
       "      <td>8</td>\n",
       "      <td>11272</td>\n",
       "      <td>182</td>\n",
       "    </tr>\n",
       "  </tbody>\n",
       "</table>\n",
       "</div>"
      ],
      "text/plain": [
       "                                                    title  \\\n",
       "count                                               21417   \n",
       "unique                                              20826   \n",
       "top     Factbox: Trump fills top jobs for his administ...   \n",
       "freq                                                   14   \n",
       "\n",
       "                                                     text       subject  \\\n",
       "count                                               21417         21417   \n",
       "unique                                              21192             2   \n",
       "top     (Reuters) - Highlights for U.S. President Dona...  politicsNews   \n",
       "freq                                                    8         11272   \n",
       "\n",
       "                      date  \n",
       "count                21417  \n",
       "unique                 716  \n",
       "top     December 20, 2017   \n",
       "freq                   182  "
      ]
     },
     "execution_count": 8,
     "metadata": {},
     "output_type": "execute_result"
    }
   ],
   "source": [
    "realnews.describe()"
   ]
  },
  {
   "cell_type": "code",
   "execution_count": 9,
   "id": "4c6a2bb3",
   "metadata": {
    "execution": {
     "iopub.execute_input": "2023-01-23T02:50:45.980724Z",
     "iopub.status.busy": "2023-01-23T02:50:45.979565Z",
     "iopub.status.idle": "2023-01-23T02:50:45.985763Z",
     "shell.execute_reply": "2023-01-23T02:50:45.984888Z"
    },
    "papermill": {
     "duration": 0.017491,
     "end_time": "2023-01-23T02:50:45.988114",
     "exception": false,
     "start_time": "2023-01-23T02:50:45.970623",
     "status": "completed"
    },
    "tags": []
   },
   "outputs": [],
   "source": [
    "realnews['True/Fake']='True'\n",
    "fakenews['True/Fake']='Fake'"
   ]
  },
  {
   "cell_type": "code",
   "execution_count": 10,
   "id": "00240b9c",
   "metadata": {
    "execution": {
     "iopub.execute_input": "2023-01-23T02:50:46.006597Z",
     "iopub.status.busy": "2023-01-23T02:50:46.005166Z",
     "iopub.status.idle": "2023-01-23T02:50:46.254295Z",
     "shell.execute_reply": "2023-01-23T02:50:46.253128Z"
    },
    "papermill": {
     "duration": 0.260794,
     "end_time": "2023-01-23T02:50:46.257033",
     "exception": false,
     "start_time": "2023-01-23T02:50:45.996239",
     "status": "completed"
    },
    "tags": []
   },
   "outputs": [
    {
     "data": {
      "text/html": [
       "<div>\n",
       "<style scoped>\n",
       "    .dataframe tbody tr th:only-of-type {\n",
       "        vertical-align: middle;\n",
       "    }\n",
       "\n",
       "    .dataframe tbody tr th {\n",
       "        vertical-align: top;\n",
       "    }\n",
       "\n",
       "    .dataframe thead th {\n",
       "        text-align: right;\n",
       "    }\n",
       "</style>\n",
       "<table border=\"1\" class=\"dataframe\">\n",
       "  <thead>\n",
       "    <tr style=\"text-align: right;\">\n",
       "      <th></th>\n",
       "      <th>title</th>\n",
       "      <th>text</th>\n",
       "      <th>subject</th>\n",
       "      <th>date</th>\n",
       "      <th>True/Fake</th>\n",
       "      <th>Article</th>\n",
       "    </tr>\n",
       "  </thead>\n",
       "  <tbody>\n",
       "    <tr>\n",
       "      <th>12433</th>\n",
       "      <td>China says it welcomes all efforts to ease ten...</td>\n",
       "      <td>BEIJING (Reuters) - China s Foreign Ministry o...</td>\n",
       "      <td>worldnews</td>\n",
       "      <td>December 13, 2017</td>\n",
       "      <td>True</td>\n",
       "      <td>China says it welcomes all efforts to ease ten...</td>\n",
       "    </tr>\n",
       "    <tr>\n",
       "      <th>4293</th>\n",
       "      <td>Russia's Lavrov tells Tillerson important not ...</td>\n",
       "      <td>MOSCOW (Reuters) - Russia’s Foreign Minister S...</td>\n",
       "      <td>politicsNews</td>\n",
       "      <td>April 12, 2017</td>\n",
       "      <td>True</td>\n",
       "      <td>Russia's Lavrov tells Tillerson important not ...</td>\n",
       "    </tr>\n",
       "    <tr>\n",
       "      <th>19652</th>\n",
       "      <td>Togolese to vote on presidential term limits a...</td>\n",
       "      <td>LOME (Reuters) - A bill to limit presidents in...</td>\n",
       "      <td>worldnews</td>\n",
       "      <td>September 19, 2017</td>\n",
       "      <td>True</td>\n",
       "      <td>Togolese to vote on presidential term limits a...</td>\n",
       "    </tr>\n",
       "    <tr>\n",
       "      <th>16407</th>\n",
       "      <td>RAW VIDEO: A SHOCKING TOUR Of The Detroit Ghet...</td>\n",
       "      <td></td>\n",
       "      <td>Government News</td>\n",
       "      <td>Sep 10, 2016</td>\n",
       "      <td>Fake</td>\n",
       "      <td>RAW VIDEO: A SHOCKING TOUR Of The Detroit Ghet...</td>\n",
       "    </tr>\n",
       "    <tr>\n",
       "      <th>6840</th>\n",
       "      <td>Bad News, Republicans: Two Scholars Figured O...</td>\n",
       "      <td>Named for Founding Father Elbridge Gerry who s...</td>\n",
       "      <td>News</td>\n",
       "      <td>April 18, 2016</td>\n",
       "      <td>Fake</td>\n",
       "      <td>Bad News, Republicans: Two Scholars Figured O...</td>\n",
       "    </tr>\n",
       "    <tr>\n",
       "      <th>...</th>\n",
       "      <td>...</td>\n",
       "      <td>...</td>\n",
       "      <td>...</td>\n",
       "      <td>...</td>\n",
       "      <td>...</td>\n",
       "      <td>...</td>\n",
       "    </tr>\n",
       "    <tr>\n",
       "      <th>6271</th>\n",
       "      <td>WATCH: Colbert Devises Perfect Advertisement ...</td>\n",
       "      <td>If America is going to end the day Donald Trum...</td>\n",
       "      <td>News</td>\n",
       "      <td>May 20, 2016</td>\n",
       "      <td>Fake</td>\n",
       "      <td>WATCH: Colbert Devises Perfect Advertisement ...</td>\n",
       "    </tr>\n",
       "    <tr>\n",
       "      <th>21481</th>\n",
       "      <td>DIRECTOR OF COMMUNITY RELATIONS AT UNIV of WI:...</td>\n",
       "      <td>As the anarchists and local thugs sit and nod ...</td>\n",
       "      <td>left-news</td>\n",
       "      <td>Aug 25, 2015</td>\n",
       "      <td>Fake</td>\n",
       "      <td>DIRECTOR OF COMMUNITY RELATIONS AT UNIV of WI:...</td>\n",
       "    </tr>\n",
       "    <tr>\n",
       "      <th>8203</th>\n",
       "      <td>Planned Parenthood Tells Carly Fiorina To Go ...</td>\n",
       "      <td>If you have not heard, lying,  baby parts -obs...</td>\n",
       "      <td>News</td>\n",
       "      <td>February 10, 2016</td>\n",
       "      <td>Fake</td>\n",
       "      <td>Planned Parenthood Tells Carly Fiorina To Go ...</td>\n",
       "    </tr>\n",
       "    <tr>\n",
       "      <th>16089</th>\n",
       "      <td>CNN Liberal Anchor Freaks Out At Navy SEAL Whe...</td>\n",
       "      <td>A Navy SEAL Carl Higbie was blasted and screec...</td>\n",
       "      <td>Government News</td>\n",
       "      <td>May 17, 2017</td>\n",
       "      <td>Fake</td>\n",
       "      <td>CNN Liberal Anchor Freaks Out At Navy SEAL Whe...</td>\n",
       "    </tr>\n",
       "    <tr>\n",
       "      <th>16044</th>\n",
       "      <td>JUDGE JEANINE IS FURIOUS! RINO’s Are Plotting ...</td>\n",
       "      <td>Fox News Channel s Jeanine Pirro went after th...</td>\n",
       "      <td>Government News</td>\n",
       "      <td>Jun 18, 2017</td>\n",
       "      <td>Fake</td>\n",
       "      <td>JUDGE JEANINE IS FURIOUS! RINO’s Are Plotting ...</td>\n",
       "    </tr>\n",
       "  </tbody>\n",
       "</table>\n",
       "<p>44898 rows × 6 columns</p>\n",
       "</div>"
      ],
      "text/plain": [
       "                                                   title  \\\n",
       "12433  China says it welcomes all efforts to ease ten...   \n",
       "4293   Russia's Lavrov tells Tillerson important not ...   \n",
       "19652  Togolese to vote on presidential term limits a...   \n",
       "16407  RAW VIDEO: A SHOCKING TOUR Of The Detroit Ghet...   \n",
       "6840    Bad News, Republicans: Two Scholars Figured O...   \n",
       "...                                                  ...   \n",
       "6271    WATCH: Colbert Devises Perfect Advertisement ...   \n",
       "21481  DIRECTOR OF COMMUNITY RELATIONS AT UNIV of WI:...   \n",
       "8203    Planned Parenthood Tells Carly Fiorina To Go ...   \n",
       "16089  CNN Liberal Anchor Freaks Out At Navy SEAL Whe...   \n",
       "16044  JUDGE JEANINE IS FURIOUS! RINO’s Are Plotting ...   \n",
       "\n",
       "                                                    text          subject  \\\n",
       "12433  BEIJING (Reuters) - China s Foreign Ministry o...        worldnews   \n",
       "4293   MOSCOW (Reuters) - Russia’s Foreign Minister S...     politicsNews   \n",
       "19652  LOME (Reuters) - A bill to limit presidents in...        worldnews   \n",
       "16407                                                     Government News   \n",
       "6840   Named for Founding Father Elbridge Gerry who s...             News   \n",
       "...                                                  ...              ...   \n",
       "6271   If America is going to end the day Donald Trum...             News   \n",
       "21481  As the anarchists and local thugs sit and nod ...        left-news   \n",
       "8203   If you have not heard, lying,  baby parts -obs...             News   \n",
       "16089  A Navy SEAL Carl Higbie was blasted and screec...  Government News   \n",
       "16044  Fox News Channel s Jeanine Pirro went after th...  Government News   \n",
       "\n",
       "                      date True/Fake  \\\n",
       "12433   December 13, 2017       True   \n",
       "4293       April 12, 2017       True   \n",
       "19652  September 19, 2017       True   \n",
       "16407         Sep 10, 2016      Fake   \n",
       "6840        April 18, 2016      Fake   \n",
       "...                    ...       ...   \n",
       "6271          May 20, 2016      Fake   \n",
       "21481         Aug 25, 2015      Fake   \n",
       "8203     February 10, 2016      Fake   \n",
       "16089         May 17, 2017      Fake   \n",
       "16044         Jun 18, 2017      Fake   \n",
       "\n",
       "                                                 Article  \n",
       "12433  China says it welcomes all efforts to ease ten...  \n",
       "4293   Russia's Lavrov tells Tillerson important not ...  \n",
       "19652  Togolese to vote on presidential term limits a...  \n",
       "16407  RAW VIDEO: A SHOCKING TOUR Of The Detroit Ghet...  \n",
       "6840    Bad News, Republicans: Two Scholars Figured O...  \n",
       "...                                                  ...  \n",
       "6271    WATCH: Colbert Devises Perfect Advertisement ...  \n",
       "21481  DIRECTOR OF COMMUNITY RELATIONS AT UNIV of WI:...  \n",
       "8203    Planned Parenthood Tells Carly Fiorina To Go ...  \n",
       "16089  CNN Liberal Anchor Freaks Out At Navy SEAL Whe...  \n",
       "16044  JUDGE JEANINE IS FURIOUS! RINO’s Are Plotting ...  \n",
       "\n",
       "[44898 rows x 6 columns]"
      ]
     },
     "execution_count": 10,
     "metadata": {},
     "output_type": "execute_result"
    }
   ],
   "source": [
    "news = pd.concat([realnews, fakenews])\n",
    "news[\"Article\"] = news[\"title\"] + news[\"text\"]\n",
    "news.sample(frac = 1) #Shuffle 100%"
   ]
  },
  {
   "cell_type": "code",
   "execution_count": 11,
   "id": "74d5d322",
   "metadata": {
    "execution": {
     "iopub.execute_input": "2023-01-23T02:50:46.281409Z",
     "iopub.status.busy": "2023-01-23T02:50:46.280968Z",
     "iopub.status.idle": "2023-01-23T02:50:47.777003Z",
     "shell.execute_reply": "2023-01-23T02:50:47.775684Z"
    },
    "papermill": {
     "duration": 1.511489,
     "end_time": "2023-01-23T02:50:47.779884",
     "exception": false,
     "start_time": "2023-01-23T02:50:46.268395",
     "status": "completed"
    },
    "tags": []
   },
   "outputs": [],
   "source": [
    "from nltk.corpus import stopwords\n",
    "import string"
   ]
  },
  {
   "cell_type": "code",
   "execution_count": 12,
   "id": "fdf82570",
   "metadata": {
    "execution": {
     "iopub.execute_input": "2023-01-23T02:50:47.798468Z",
     "iopub.status.busy": "2023-01-23T02:50:47.798027Z",
     "iopub.status.idle": "2023-01-23T02:50:47.804053Z",
     "shell.execute_reply": "2023-01-23T02:50:47.802989Z"
    },
    "papermill": {
     "duration": 0.017784,
     "end_time": "2023-01-23T02:50:47.806186",
     "exception": false,
     "start_time": "2023-01-23T02:50:47.788402",
     "status": "completed"
    },
    "tags": []
   },
   "outputs": [],
   "source": [
    "def process_text(s):\n",
    "\n",
    "    # Check string to see if they are a punctuation\n",
    "    nopunc = [char for char in s if char not in string.punctuation]\n",
    "\n",
    "    # Join the characters again to form the string.\n",
    "    nopunc = ''.join(nopunc)\n",
    "    \n",
    "    # Convert string to lowercase\n",
    "    clean_string = [word for word in nopunc.split() if word.lower()]\n",
    "    #not in stopwords.words('english')\n",
    "    return clean_string"
   ]
  },
  {
   "cell_type": "code",
   "execution_count": 13,
   "id": "7ecc9403",
   "metadata": {
    "execution": {
     "iopub.execute_input": "2023-01-23T02:50:47.824131Z",
     "iopub.status.busy": "2023-01-23T02:50:47.823712Z",
     "iopub.status.idle": "2023-01-23T02:51:08.355850Z",
     "shell.execute_reply": "2023-01-23T02:51:08.354779Z"
    },
    "papermill": {
     "duration": 20.544256,
     "end_time": "2023-01-23T02:51:08.358724",
     "exception": false,
     "start_time": "2023-01-23T02:50:47.814468",
     "status": "completed"
    },
    "tags": []
   },
   "outputs": [],
   "source": [
    "# Tokenize the Article\n",
    "news['Clean Text'] = news['Article'].apply(process_text)"
   ]
  },
  {
   "cell_type": "code",
   "execution_count": 14,
   "id": "dcfe5e56",
   "metadata": {
    "execution": {
     "iopub.execute_input": "2023-01-23T02:51:08.378640Z",
     "iopub.status.busy": "2023-01-23T02:51:08.377505Z",
     "iopub.status.idle": "2023-01-23T02:51:08.425666Z",
     "shell.execute_reply": "2023-01-23T02:51:08.424344Z"
    },
    "papermill": {
     "duration": 0.0605,
     "end_time": "2023-01-23T02:51:08.428066",
     "exception": false,
     "start_time": "2023-01-23T02:51:08.367566",
     "status": "completed"
    },
    "tags": []
   },
   "outputs": [
    {
     "data": {
      "text/html": [
       "<div>\n",
       "<style scoped>\n",
       "    .dataframe tbody tr th:only-of-type {\n",
       "        vertical-align: middle;\n",
       "    }\n",
       "\n",
       "    .dataframe tbody tr th {\n",
       "        vertical-align: top;\n",
       "    }\n",
       "\n",
       "    .dataframe thead th {\n",
       "        text-align: right;\n",
       "    }\n",
       "</style>\n",
       "<table border=\"1\" class=\"dataframe\">\n",
       "  <thead>\n",
       "    <tr style=\"text-align: right;\">\n",
       "      <th></th>\n",
       "      <th>title</th>\n",
       "      <th>text</th>\n",
       "      <th>subject</th>\n",
       "      <th>date</th>\n",
       "      <th>True/Fake</th>\n",
       "      <th>Article</th>\n",
       "      <th>Clean Text</th>\n",
       "    </tr>\n",
       "  </thead>\n",
       "  <tbody>\n",
       "    <tr>\n",
       "      <th>14561</th>\n",
       "      <td>Botswana's Khama tells Mugabe to go</td>\n",
       "      <td>JOHANNESBURG (Reuters) - Zimbabwe President Ro...</td>\n",
       "      <td>worldnews</td>\n",
       "      <td>November 17, 2017</td>\n",
       "      <td>True</td>\n",
       "      <td>Botswana's Khama tells Mugabe to goJOHANNESBUR...</td>\n",
       "      <td>[Botswanas, Khama, tells, Mugabe, to, goJOHANN...</td>\n",
       "    </tr>\n",
       "    <tr>\n",
       "      <th>3208</th>\n",
       "      <td>Tillerson calls China cooperation on North Kor...</td>\n",
       "      <td>WASHINGTON (Reuters) - U.S. Secretary of State...</td>\n",
       "      <td>politicsNews</td>\n",
       "      <td>June 14, 2017</td>\n",
       "      <td>True</td>\n",
       "      <td>Tillerson calls China cooperation on North Kor...</td>\n",
       "      <td>[Tillerson, calls, China, cooperation, on, Nor...</td>\n",
       "    </tr>\n",
       "    <tr>\n",
       "      <th>8223</th>\n",
       "      <td>Hollywood Secretly Made This Trump Movie Star...</td>\n",
       "      <td>On the morning after Donald Trump s  yuge  win...</td>\n",
       "      <td>News</td>\n",
       "      <td>February 10, 2016</td>\n",
       "      <td>Fake</td>\n",
       "      <td>Hollywood Secretly Made This Trump Movie Star...</td>\n",
       "      <td>[Hollywood, Secretly, Made, This, Trump, Movie...</td>\n",
       "    </tr>\n",
       "    <tr>\n",
       "      <th>19307</th>\n",
       "      <td>BOOM! LEADERS Of 34,000 Black Churches Tell Me...</td>\n",
       "      <td>Skip Al Sharpton s March on Washington on Satu...</td>\n",
       "      <td>left-news</td>\n",
       "      <td>Jan 15, 2017</td>\n",
       "      <td>Fake</td>\n",
       "      <td>BOOM! LEADERS Of 34,000 Black Churches Tell Me...</td>\n",
       "      <td>[BOOM, LEADERS, Of, 34000, Black, Churches, Te...</td>\n",
       "    </tr>\n",
       "    <tr>\n",
       "      <th>12056</th>\n",
       "      <td>KRAUTHAMMER REDEEMS HIMSELF: Trump Should Turn...</td>\n",
       "      <td>HERE ARE KRAUTHAMMER S REMARKS BUT THE FULL VI...</td>\n",
       "      <td>politics</td>\n",
       "      <td>Dec 27, 2016</td>\n",
       "      <td>Fake</td>\n",
       "      <td>KRAUTHAMMER REDEEMS HIMSELF: Trump Should Turn...</td>\n",
       "      <td>[KRAUTHAMMER, REDEEMS, HIMSELF, Trump, Should,...</td>\n",
       "    </tr>\n",
       "  </tbody>\n",
       "</table>\n",
       "</div>"
      ],
      "text/plain": [
       "                                                   title  \\\n",
       "14561                Botswana's Khama tells Mugabe to go   \n",
       "3208   Tillerson calls China cooperation on North Kor...   \n",
       "8223    Hollywood Secretly Made This Trump Movie Star...   \n",
       "19307  BOOM! LEADERS Of 34,000 Black Churches Tell Me...   \n",
       "12056  KRAUTHAMMER REDEEMS HIMSELF: Trump Should Turn...   \n",
       "\n",
       "                                                    text       subject  \\\n",
       "14561  JOHANNESBURG (Reuters) - Zimbabwe President Ro...     worldnews   \n",
       "3208   WASHINGTON (Reuters) - U.S. Secretary of State...  politicsNews   \n",
       "8223   On the morning after Donald Trump s  yuge  win...          News   \n",
       "19307  Skip Al Sharpton s March on Washington on Satu...     left-news   \n",
       "12056  HERE ARE KRAUTHAMMER S REMARKS BUT THE FULL VI...      politics   \n",
       "\n",
       "                     date True/Fake  \\\n",
       "14561  November 17, 2017       True   \n",
       "3208       June 14, 2017       True   \n",
       "8223    February 10, 2016      Fake   \n",
       "19307        Jan 15, 2017      Fake   \n",
       "12056        Dec 27, 2016      Fake   \n",
       "\n",
       "                                                 Article  \\\n",
       "14561  Botswana's Khama tells Mugabe to goJOHANNESBUR...   \n",
       "3208   Tillerson calls China cooperation on North Kor...   \n",
       "8223    Hollywood Secretly Made This Trump Movie Star...   \n",
       "19307  BOOM! LEADERS Of 34,000 Black Churches Tell Me...   \n",
       "12056  KRAUTHAMMER REDEEMS HIMSELF: Trump Should Turn...   \n",
       "\n",
       "                                              Clean Text  \n",
       "14561  [Botswanas, Khama, tells, Mugabe, to, goJOHANN...  \n",
       "3208   [Tillerson, calls, China, cooperation, on, Nor...  \n",
       "8223   [Hollywood, Secretly, Made, This, Trump, Movie...  \n",
       "19307  [BOOM, LEADERS, Of, 34000, Black, Churches, Te...  \n",
       "12056  [KRAUTHAMMER, REDEEMS, HIMSELF, Trump, Should,...  "
      ]
     },
     "execution_count": 14,
     "metadata": {},
     "output_type": "execute_result"
    }
   ],
   "source": [
    "news.sample(5)\n"
   ]
  },
  {
   "cell_type": "code",
   "execution_count": 15,
   "id": "0a51d6ab",
   "metadata": {
    "execution": {
     "iopub.execute_input": "2023-01-23T02:51:08.447108Z",
     "iopub.status.busy": "2023-01-23T02:51:08.446689Z",
     "iopub.status.idle": "2023-01-23T02:51:08.452090Z",
     "shell.execute_reply": "2023-01-23T02:51:08.451013Z"
    },
    "papermill": {
     "duration": 0.017566,
     "end_time": "2023-01-23T02:51:08.454389",
     "exception": false,
     "start_time": "2023-01-23T02:51:08.436823",
     "status": "completed"
    },
    "tags": []
   },
   "outputs": [],
   "source": [
    "from sklearn.feature_extraction.text import CountVectorizer"
   ]
  },
  {
   "cell_type": "code",
   "execution_count": 16,
   "id": "fbc82671",
   "metadata": {
    "execution": {
     "iopub.execute_input": "2023-01-23T02:51:08.473568Z",
     "iopub.status.busy": "2023-01-23T02:51:08.473166Z",
     "iopub.status.idle": "2023-01-23T02:51:12.659769Z",
     "shell.execute_reply": "2023-01-23T02:51:12.657943Z"
    },
    "papermill": {
     "duration": 4.199448,
     "end_time": "2023-01-23T02:51:12.662727",
     "exception": false,
     "start_time": "2023-01-23T02:51:08.463279",
     "status": "completed"
    },
    "tags": []
   },
   "outputs": [
    {
     "name": "stdout",
     "output_type": "stream",
     "text": [
      "39099\n"
     ]
    }
   ],
   "source": [
    "bow_transformer = CountVectorizer(analyzer=process_text).fit(news['Clean Text'])\n",
    "\n",
    "print(len(bow_transformer.vocabulary_))"
   ]
  },
  {
   "cell_type": "code",
   "execution_count": 17,
   "id": "2ab952d8",
   "metadata": {
    "execution": {
     "iopub.execute_input": "2023-01-23T02:51:12.682350Z",
     "iopub.status.busy": "2023-01-23T02:51:12.681137Z",
     "iopub.status.idle": "2023-01-23T02:51:16.602081Z",
     "shell.execute_reply": "2023-01-23T02:51:16.600699Z"
    },
    "papermill": {
     "duration": 3.933553,
     "end_time": "2023-01-23T02:51:16.604933",
     "exception": false,
     "start_time": "2023-01-23T02:51:12.671380",
     "status": "completed"
    },
    "tags": []
   },
   "outputs": [],
   "source": [
    "news_bow = bow_transformer.transform(news['Clean Text'])"
   ]
  },
  {
   "cell_type": "code",
   "execution_count": 18,
   "id": "e9f10989",
   "metadata": {
    "execution": {
     "iopub.execute_input": "2023-01-23T02:51:16.624570Z",
     "iopub.status.busy": "2023-01-23T02:51:16.623774Z",
     "iopub.status.idle": "2023-01-23T02:51:16.629214Z",
     "shell.execute_reply": "2023-01-23T02:51:16.628269Z"
    },
    "papermill": {
     "duration": 0.017473,
     "end_time": "2023-01-23T02:51:16.631230",
     "exception": false,
     "start_time": "2023-01-23T02:51:16.613757",
     "status": "completed"
    },
    "tags": []
   },
   "outputs": [
    {
     "name": "stdout",
     "output_type": "stream",
     "text": [
      "Shape of Sparse Matrix:  (44898, 39099)\n",
      "Amount of Non-Zero occurences:  44898\n"
     ]
    }
   ],
   "source": [
    "print('Shape of Sparse Matrix: ', news_bow.shape)\n",
    "print('Amount of Non-Zero occurences: ', news_bow.nnz)"
   ]
  },
  {
   "cell_type": "code",
   "execution_count": 19,
   "id": "13383f30",
   "metadata": {
    "execution": {
     "iopub.execute_input": "2023-01-23T02:51:16.650903Z",
     "iopub.status.busy": "2023-01-23T02:51:16.650289Z",
     "iopub.status.idle": "2023-01-23T02:51:16.655797Z",
     "shell.execute_reply": "2023-01-23T02:51:16.654819Z"
    },
    "papermill": {
     "duration": 0.017782,
     "end_time": "2023-01-23T02:51:16.657877",
     "exception": false,
     "start_time": "2023-01-23T02:51:16.640095",
     "status": "completed"
    },
    "tags": []
   },
   "outputs": [
    {
     "name": "stdout",
     "output_type": "stream",
     "text": [
      "sparsity: 0\n"
     ]
    }
   ],
   "source": [
    "sparsity = (100.0 * news_bow.nnz / (news_bow.shape[0] * news_bow.shape[1]))\n",
    "print('sparsity: {}'.format(round(sparsity)))"
   ]
  },
  {
   "cell_type": "code",
   "execution_count": 20,
   "id": "ceddd483",
   "metadata": {
    "execution": {
     "iopub.execute_input": "2023-01-23T02:51:16.676808Z",
     "iopub.status.busy": "2023-01-23T02:51:16.676422Z",
     "iopub.status.idle": "2023-01-23T02:51:16.695902Z",
     "shell.execute_reply": "2023-01-23T02:51:16.694699Z"
    },
    "papermill": {
     "duration": 0.032178,
     "end_time": "2023-01-23T02:51:16.698684",
     "exception": false,
     "start_time": "2023-01-23T02:51:16.666506",
     "status": "completed"
    },
    "tags": []
   },
   "outputs": [
    {
     "name": "stdout",
     "output_type": "stream",
     "text": [
      "(44898, 39099)\n"
     ]
    }
   ],
   "source": [
    "from sklearn.feature_extraction.text import TfidfTransformer\n",
    "\n",
    "tfidf_transformer = TfidfTransformer().fit(news_bow)\n",
    "news_tfidf = tfidf_transformer.transform(news_bow)\n",
    "print(news_tfidf.shape)"
   ]
  },
  {
   "cell_type": "code",
   "execution_count": 21,
   "id": "91e638b7",
   "metadata": {
    "execution": {
     "iopub.execute_input": "2023-01-23T02:51:16.717736Z",
     "iopub.status.busy": "2023-01-23T02:51:16.717317Z",
     "iopub.status.idle": "2023-01-23T02:51:16.850701Z",
     "shell.execute_reply": "2023-01-23T02:51:16.849472Z"
    },
    "papermill": {
     "duration": 0.145837,
     "end_time": "2023-01-23T02:51:16.853407",
     "exception": false,
     "start_time": "2023-01-23T02:51:16.707570",
     "status": "completed"
    },
    "tags": []
   },
   "outputs": [],
   "source": [
    "#Train Naive Bayes Model\n",
    "from sklearn.naive_bayes import MultinomialNB\n",
    "fakenews_detect_model = MultinomialNB().fit(news_tfidf, news['True/Fake'])"
   ]
  },
  {
   "cell_type": "code",
   "execution_count": 22,
   "id": "6c2bb0ce",
   "metadata": {
    "execution": {
     "iopub.execute_input": "2023-01-23T02:51:16.872386Z",
     "iopub.status.busy": "2023-01-23T02:51:16.871969Z",
     "iopub.status.idle": "2023-01-23T02:51:16.881151Z",
     "shell.execute_reply": "2023-01-23T02:51:16.879826Z"
    },
    "papermill": {
     "duration": 0.021454,
     "end_time": "2023-01-23T02:51:16.883578",
     "exception": false,
     "start_time": "2023-01-23T02:51:16.862124",
     "status": "completed"
    },
    "tags": []
   },
   "outputs": [
    {
     "name": "stdout",
     "output_type": "stream",
     "text": [
      "['True' 'True' 'True' ... 'Fake' 'Fake' 'Fake']\n"
     ]
    }
   ],
   "source": [
    "#Model Evaluation\n",
    "predictions = fakenews_detect_model.predict(news_tfidf)\n",
    "print(predictions)"
   ]
  },
  {
   "cell_type": "code",
   "execution_count": 23,
   "id": "0f10634e",
   "metadata": {
    "execution": {
     "iopub.execute_input": "2023-01-23T02:51:16.903370Z",
     "iopub.status.busy": "2023-01-23T02:51:16.902970Z",
     "iopub.status.idle": "2023-01-23T02:51:18.297433Z",
     "shell.execute_reply": "2023-01-23T02:51:18.295900Z"
    },
    "papermill": {
     "duration": 1.407835,
     "end_time": "2023-01-23T02:51:18.300447",
     "exception": false,
     "start_time": "2023-01-23T02:51:16.892612",
     "status": "completed"
    },
    "tags": []
   },
   "outputs": [
    {
     "name": "stdout",
     "output_type": "stream",
     "text": [
      "              precision    recall  f1-score   support\n",
      "\n",
      "        Fake       1.00      1.00      1.00     23481\n",
      "        True       1.00      1.00      1.00     21417\n",
      "\n",
      "    accuracy                           1.00     44898\n",
      "   macro avg       1.00      1.00      1.00     44898\n",
      "weighted avg       1.00      1.00      1.00     44898\n",
      "\n"
     ]
    }
   ],
   "source": [
    "from sklearn.metrics import classification_report\n",
    "print (classification_report(news['True/Fake'], predictions))"
   ]
  },
  {
   "cell_type": "code",
   "execution_count": 24,
   "id": "032eb714",
   "metadata": {
    "execution": {
     "iopub.execute_input": "2023-01-23T02:51:18.321041Z",
     "iopub.status.busy": "2023-01-23T02:51:18.320653Z",
     "iopub.status.idle": "2023-01-23T02:51:18.337519Z",
     "shell.execute_reply": "2023-01-23T02:51:18.335750Z"
    },
    "papermill": {
     "duration": 0.030706,
     "end_time": "2023-01-23T02:51:18.340278",
     "exception": false,
     "start_time": "2023-01-23T02:51:18.309572",
     "status": "completed"
    },
    "tags": []
   },
   "outputs": [
    {
     "name": "stdout",
     "output_type": "stream",
     "text": [
      "26938 17960 44898\n"
     ]
    }
   ],
   "source": [
    "from sklearn.model_selection import train_test_split\n",
    "\n",
    "news_train, news_test, text_train, text_test = train_test_split(news['Article'], news['True/Fake'], test_size=0.4)\n",
    "\n",
    "print(len(news_train), len(news_test), len(news_train) + len(news_test))"
   ]
  },
  {
   "cell_type": "code",
   "execution_count": 25,
   "id": "ae910fdb",
   "metadata": {
    "execution": {
     "iopub.execute_input": "2023-01-23T02:51:18.360235Z",
     "iopub.status.busy": "2023-01-23T02:51:18.359817Z",
     "iopub.status.idle": "2023-01-23T02:51:37.479406Z",
     "shell.execute_reply": "2023-01-23T02:51:37.478273Z"
    },
    "papermill": {
     "duration": 19.132425,
     "end_time": "2023-01-23T02:51:37.481879",
     "exception": false,
     "start_time": "2023-01-23T02:51:18.349454",
     "status": "completed"
    },
    "tags": []
   },
   "outputs": [
    {
     "data": {
      "text/plain": [
       "Pipeline(steps=[('bow',\n",
       "                 CountVectorizer(analyzer=<function process_text at 0x7fd217b1b950>)),\n",
       "                ('tfidf', TfidfTransformer()),\n",
       "                ('classifier', MultinomialNB())])"
      ]
     },
     "execution_count": 25,
     "metadata": {},
     "output_type": "execute_result"
    }
   ],
   "source": [
    "from sklearn.pipeline import Pipeline\n",
    "\n",
    "pipeline = Pipeline([\n",
    "    ('bow', CountVectorizer(analyzer=process_text)),  \n",
    "    ('tfidf', TfidfTransformer()),  \n",
    "    ('classifier', MultinomialNB()),  \n",
    "])\n",
    "pipeline.fit(news_train,text_train)"
   ]
  },
  {
   "cell_type": "code",
   "execution_count": 26,
   "id": "1d1df756",
   "metadata": {
    "execution": {
     "iopub.execute_input": "2023-01-23T02:51:37.501679Z",
     "iopub.status.busy": "2023-01-23T02:51:37.501272Z",
     "iopub.status.idle": "2023-01-23T02:51:48.898641Z",
     "shell.execute_reply": "2023-01-23T02:51:48.897781Z"
    },
    "papermill": {
     "duration": 11.410426,
     "end_time": "2023-01-23T02:51:48.901311",
     "exception": false,
     "start_time": "2023-01-23T02:51:37.490885",
     "status": "completed"
    },
    "tags": []
   },
   "outputs": [],
   "source": [
    "prediction = pipeline.predict(news_test)"
   ]
  },
  {
   "cell_type": "code",
   "execution_count": 27,
   "id": "874bcafd",
   "metadata": {
    "execution": {
     "iopub.execute_input": "2023-01-23T02:51:48.921898Z",
     "iopub.status.busy": "2023-01-23T02:51:48.921222Z",
     "iopub.status.idle": "2023-01-23T02:51:49.454254Z",
     "shell.execute_reply": "2023-01-23T02:51:49.452835Z"
    },
    "papermill": {
     "duration": 0.546835,
     "end_time": "2023-01-23T02:51:49.457399",
     "exception": false,
     "start_time": "2023-01-23T02:51:48.910564",
     "status": "completed"
    },
    "tags": []
   },
   "outputs": [
    {
     "name": "stdout",
     "output_type": "stream",
     "text": [
      "              precision    recall  f1-score   support\n",
      "\n",
      "        Fake       0.97      0.98      0.97      9325\n",
      "        True       0.97      0.96      0.97      8635\n",
      "\n",
      "    accuracy                           0.97     17960\n",
      "   macro avg       0.97      0.97      0.97     17960\n",
      "weighted avg       0.97      0.97      0.97     17960\n",
      "\n"
     ]
    }
   ],
   "source": [
    "print(classification_report(prediction,text_test))"
   ]
  },
  {
   "cell_type": "code",
   "execution_count": null,
   "id": "4549a838",
   "metadata": {
    "papermill": {
     "duration": 0.00871,
     "end_time": "2023-01-23T02:51:49.475711",
     "exception": false,
     "start_time": "2023-01-23T02:51:49.467001",
     "status": "completed"
    },
    "tags": []
   },
   "outputs": [],
   "source": []
  }
 ],
 "metadata": {
  "kernelspec": {
   "display_name": "Python 3",
   "language": "python",
   "name": "python3"
  },
  "language_info": {
   "codemirror_mode": {
    "name": "ipython",
    "version": 3
   },
   "file_extension": ".py",
   "mimetype": "text/x-python",
   "name": "python",
   "nbconvert_exporter": "python",
   "pygments_lexer": "ipython3",
   "version": "3.7.12"
  },
  "papermill": {
   "default_parameters": {},
   "duration": 77.08541,
   "end_time": "2023-01-23T02:51:51.009161",
   "environment_variables": {},
   "exception": null,
   "input_path": "__notebook__.ipynb",
   "output_path": "__notebook__.ipynb",
   "parameters": {},
   "start_time": "2023-01-23T02:50:33.923751",
   "version": "2.3.4"
  }
 },
 "nbformat": 4,
 "nbformat_minor": 5
}
